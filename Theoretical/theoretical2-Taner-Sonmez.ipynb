{
  "cells": [
    {
      "cell_type": "markdown",
      "metadata": {
        "id": "pOpd_j86I1Nc"
      },
      "source": [
        "# Logistic Regression\n",
        "## Introduction\n",
        "\n",
        "In this notebook we are going to study gradient descent and in this case applied to logistic regression.\n",
        "Logistic regression (LR) is a statistical method for analysing datasets where there are one of more independent variables that determine the outcome. The outcome is a dichotomous, meaning there are only two possible outcomes (1 / 0, Yes / No, True / False). For instance, if you want to predict the sex of a person from age ($x_1$) and income ($x_2$), the logistic regression model would be\n",
        "\n",
        "$$ h(x) = \\theta_0 + \\theta_1x_1 + \\theta_2 x_2 $$\n",
        "\n",
        "where $h(x)$ is the outcome varibale, $\\theta_0$ the bias and $\\theta_1$ and $\\theta_2$ the weights. The goal is ultimately to tune these parameters with respect to the obeserved data ($x_1$,$x_2$).\n",
        "\n",
        "LR estimates a probability (between 0 and 100%) but $h(x)$ gives values in $(-\\infty, +\\infty)$. We need to \"squish\" $h(x)$ to restrict it to a suitable range. LR commonly uses the logistic function (a.k.a. sigmoid function) to compute probabilities: \n",
        "\n",
        "$$ \\sigma(h(x)) = \\frac{1}{1+e^{-h(x)}}. $$\n",
        "\n",
        "It is possible to threshold the logistic function (values between 0-1), and values below 0.5 will be counted as the prediction of class 0 and values larger than 0.5 results in the prediction of class 1.\n",
        "\n",
        "The full logistic regression model is then:\n",
        "\n",
        "$$ z(x) = \\sigma(h(x)) = \\frac{1}{1+e^{-(\\theta_0 + \\theta_1x_1 + \\theta_2 x_2)}}. $$"
      ]
    },
    {
      "cell_type": "markdown",
      "metadata": {
        "id": "YxuoiwiQI1Ne"
      },
      "source": [
        "# Ready, steady, code! 🚀\n",
        "\n",
        "Let's start with loading some data, scikit-learn comes with a couple of toy datasets and we are going to use the \"iris\" dataset where the goal is to classify which type of flower based on a set of features consisting of sepal length (cm), sepal width (cm), petal length (cm), petal width (cm). To begin with we consider only two of those features."
      ]
    },
    {
      "cell_type": "code",
      "execution_count": 1,
      "metadata": {
        "ExecuteTime": {
          "end_time": "2021-01-19T07:50:41.692245Z",
          "start_time": "2021-01-19T07:50:41.685547Z"
        },
        "id": "i7VvusSfI1Ne"
      },
      "outputs": [],
      "source": [
        "# import stuff that we need\n",
        "import numpy as np\n",
        "import matplotlib as mpl\n",
        "import matplotlib.pyplot as plt\n",
        "import sklearn\n",
        "import sklearn.datasets as ds\n",
        "from IPython.display import clear_output # if you get problem with this import you can skip it, it is used to print the cost later which can be skipped"
      ]
    },
    {
      "cell_type": "code",
      "execution_count": 2,
      "metadata": {
        "ExecuteTime": {
          "end_time": "2021-01-19T07:52:28.766916Z",
          "start_time": "2021-01-19T07:52:28.757691Z"
        },
        "id": "7JvJRHn5I1Ne"
      },
      "outputs": [],
      "source": [
        "#assert np.__version__ == \"1.19.4\", \"Looks like you don't have the same version of numpy as us!\"\n",
        "#assert mpl.__version__ == \"3.3.3\", \"Looks like you don't have the same version of matplotlib as us!\"\n",
        "#assert sklearn.__version__ == \"0.24.0\", \"Looks like you don't have the same version of sklearn as us!\""
      ]
    },
    {
      "cell_type": "code",
      "execution_count": 3,
      "metadata": {
        "ExecuteTime": {
          "end_time": "2021-01-19T07:52:33.179008Z",
          "start_time": "2021-01-19T07:52:33.151459Z"
        },
        "id": "e3pF9EhrI1Nf"
      },
      "outputs": [],
      "source": [
        "data = ds.load_iris()\n",
        "\n",
        "selected_features_idx = [0,1] #'sepal length (cm)', 'sepal width (cm)'\n",
        "selected_targets = [0,1] #'setosa' 'versicolor'\n",
        "\n",
        "idx = np.array([x in selected_targets for x in data.target])\n",
        "x = data.data[:,selected_features_idx][idx]\n",
        "y = data.target[idx]\n",
        "y[y > 1] = 1 # Reset labels greater than 1 to 1"
      ]
    },
    {
      "cell_type": "code",
      "execution_count": 4,
      "metadata": {
        "ExecuteTime": {
          "end_time": "2021-01-19T07:52:46.508713Z",
          "start_time": "2021-01-19T07:52:46.172908Z"
        },
        "colab": {
          "base_uri": "https://localhost:8080/",
          "height": 268
        },
        "id": "2duzesu5I1Nf",
        "outputId": "fb74c512-c4ef-4897-e372-e62c30d1cb9d"
      },
      "outputs": [
        {
          "output_type": "display_data",
          "data": {
            "text/plain": [
              "<Figure size 432x288 with 1 Axes>"
            ],
            "image/png": "[encoded data removed]"
          },
          "metadata": {
            "needs_background": "light"
          }
        }
      ],
      "source": [
        "plt.figure()\n",
        "for label in np.unique(y):\n",
        "    plt.scatter(x[:, 0][y == label], x[:, 1][y == label], label = data.target_names[label])\n",
        "plt.legend()\n",
        "plt.show()"
      ]
    },
    {
      "cell_type": "markdown",
      "metadata": {
        "id": "WaOAArq5I1Nf"
      },
      "source": [
        "Now we need a function that predicts the logistic regression model and make predictions. This function takes a measurement, the current bias and the weights as input.\n",
        "\n",
        "$$ z(x) = \\frac{1}{1+e^{-(\\theta_0 + \\theta_1x_1 + \\theta_2x_2)}} $$\n"
      ]
    },
    {
      "cell_type": "code",
      "execution_count": 5,
      "metadata": {
        "id": "NmmP6lAPI1Nf"
      },
      "outputs": [],
      "source": [
        "def z_x(x, bias, weights):\n",
        "    \"\"\" param x: vector containing measurements. x = [x1, x2]\n",
        "        param bias: single value\n",
        "        param weight: vector containing model weights. weights= [w1,w2]\n",
        "        \n",
        "        return: value of logistic regression model for defined x, bias and weights\n",
        "    \"\"\"\n",
        "    \n",
        "    for i in range(len(x)):\n",
        "        bias += x[i]*weights[i]   \n",
        "    result = 1/(1 + np.exp(-bias))\n",
        "  \n",
        "    return result\n",
        " "
      ]
    },
    {
      "cell_type": "markdown",
      "metadata": {
        "id": "tR36P8S3I1Nf"
      },
      "source": [
        "Now try it with some random weights and bias."
      ]
    },
    {
      "cell_type": "code",
      "execution_count": 6,
      "metadata": {
        "colab": {
          "base_uri": "https://localhost:8080/"
        },
        "id": "V6q_20KAI1Nf",
        "outputId": "f49a4fc7-21f3-4eaa-98ca-515e9ab76d74"
      },
      "outputs": [
        {
          "output_type": "stream",
          "name": "stdout",
          "text": [
            "Accuracy:  0.5\n"
          ]
        }
      ],
      "source": [
        "bias = np.random.normal()\n",
        "weights = np.random.normal(size = len(x[0]))\n",
        "\n",
        "predicted = []\n",
        "for i in range(len(x)):\n",
        "    yhat = z_x(x[i], bias, weights)\n",
        "    predicted.append(round(yhat))\n",
        "\n",
        "print('Accuracy: ', np.sum(np.equal(y, predicted)) / len(predicted))"
      ]
    },
    {
      "cell_type": "markdown",
      "metadata": {
        "id": "oaxrxulsI1Nf"
      },
      "source": [
        "Let's plot the decision boundary between the points for this set of weights. The decision boundary is found by setting $h(x) = 0$ which gives:\n",
        "\n",
        "$$ x_2 = -\\frac{\\theta_0 + \\theta_1x_1}{\\theta_2} $$"
      ]
    },
    {
      "cell_type": "code",
      "execution_count": 7,
      "metadata": {
        "colab": {
          "base_uri": "https://localhost:8080/",
          "height": 265
        },
        "id": "OrKcpPmPI1Nf",
        "outputId": "6b7537ec-7b49-4ff9-f8b1-68e45cad7303"
      },
      "outputs": [
        {
          "output_type": "display_data",
          "data": {
            "text/plain": [
              "<Figure size 432x288 with 1 Axes>"
            ],
            "image/png": "[encoded data removed]"
          },
          "metadata": {
            "needs_background": "light"
          }
        }
      ],
      "source": [
        "x_values = x[:,0]\n",
        "y_values = - (bias + weights[0]*x_values) / weights[1]\n",
        "\n",
        "plt.figure()\n",
        "plt.scatter(x[:,0][y==0],x[:,1][y==0], label = '0')\n",
        "plt.scatter(x[:,0][y==1],x[:,1][y==1], label = '2')\n",
        "plt.plot(x_values, y_values, label='Decision Boundary')\n",
        "plt.legend()\n",
        "plt.show()"
      ]
    },
    {
      "cell_type": "markdown",
      "metadata": {
        "id": "w27yFuqEI1Nf"
      },
      "source": [
        "Not very good (or did you get lucky with the weights?). Try rerunning it a couple of times to see if you can randomly find a better set of weights that improves the accuracy.\n",
        "\n",
        "\n",
        "\n",
        "Now, a better way of finding the optimal weights is the gradient descent method. Gradient descent is an iterative process of minimizing a function by following the gradients of a pre-defined cost function. This is useful for updating and tuning the parameters of our logistic regression model. As gradient descent is an iterative algorithm, we have to repeat the above step until we reach a satisfactory solution. The updates are defined as:\n",
        "\n",
        "$$ \\theta_j \\leftarrow \\theta_j - \\alpha \\frac{\\partial J(\\theta)}{\\partial\\theta_j}, $$\n",
        "\n",
        "and similarily for the bias term \n",
        "\n",
        "$$ \\theta_0 \\leftarrow \\theta_0 - \\alpha \\frac{\\partial J(\\theta)}{\\partial \\theta_o}. $$\n",
        "\n",
        "Where $\\alpha$ is a user specified learning rate, a scalar that controls the step size in the parameter space and $J(\\theta)$ is the cost function that we will now define. Note that to minimize the cost function, we move in the direction opposite to the gradient.\n",
        "\n",
        "First, we need to define our cost function, which is typically the negative log-likelihood of the data for numerical reasons, also called *Binary-Cross-Entropy* loss function. For a binary classification problem with $m$ training examples, where $x^{(i)}$ represents the $i$-th example of our training set and $y^{(i)}$ its output, the cost function is given by:\n",
        "\n",
        "$$\n",
        "J(\\theta)=\\frac{1}{m}\\sum_{i=1}^m \n",
        "\\begin{cases}\n",
        "-log(g(x^{(i)}, \\theta)),& \\text{if } y^{(i)} = 1\\\\\n",
        "-log(1 - g(x^{(i)},\\theta)),& \\text{if } y^{(i)} = 0\n",
        "\\end{cases}\n",
        "$$\n",
        "\n",
        "where $g(x^{(i)},\\theta)$ modelizes $P(y = 1 | x; \\theta)$. Note that we have added $\\theta$ explicitly to the notation to emphasize the dependence on the model parameters.\n",
        "\n",
        "The two functions can be combined into one as:\n",
        "\n",
        "$$ J(\\theta) = -\\frac{1}{m} \\sum_{i=1}^m [y^{(i)} \\log(z_\\theta(x^{(i)})) + (1 - y^{(i)}) \\log(1 - z_\\theta(x^{(i)}))] $$\n",
        "\n",
        "Where $z_θ(x)$ is the sigmoid function, representing the probability that the input $x$ belongs to the positive class.\n",
        "\n",
        "To simplify the notation in the following calculations, we will omit the subindexes; nevertheless, keep in mind that when the cost function is optimized, it is done across all samples in the training dataset.\n",
        "\n",
        "$$ J(\\theta)= -y\\cdot log(z(x)) - (1-y)\\cdot log(1-z(x))$$\n",
        "\n",
        "where $y$ is the target class. The Binary-Cross-Entropy tells us that if the target is 1 and we predict 0, then we will get a large error ($-log(0) = \\infty$) and vice verca ($-log(1 - 1) = -log(0) = \\infty$).\n",
        "\n",
        "For gradient descent we need the derivative of this cost function with respect to the weights $\\frac{\\partial J(\\theta)}{\\partial\\theta_j}$. We can get this with the chain rule:\n",
        "\n",
        "\n",
        "\n",
        "$$\\frac{\\partial J(\\theta)}{\\partial \\theta_j} = \\frac{\\partial J(\\theta)}{\\partial z(x)} \\cdot \\frac{\\partial z(x)}{\\partial h(x)} \\cdot \\frac{\\partial h(x)}{\\partial \\theta_j}$$\n",
        "\n",
        "\n",
        "Where the three derivatives result in:\n",
        "\n",
        "$$\\begin{aligned} \\frac{\\partial J(\\theta)}{\\partial z(x)} &= -\\left(\\frac{y}{z(x)} - \\frac{(1-y)}{(1-z(x))}\\right) \\\\ \\frac{\\partial z(x)}{\\partial h(x)} &= z(x)\\cdot(1-z(x)) \\\\ \\frac{\\partial h(x)}{\\partial \\theta} &=  x \\end{aligned}$$\n",
        "\n",
        "Combining the previous equations together with the previous chain rule gives \n",
        "\n",
        "$$ \\frac{\\partial J(\\theta)}{\\partial\\theta_j} = x_j\\cdot(z(x)-y) $$\n",
        "\n",
        "where $x_j$ is the $j$-th component of $x$.\n",
        "\n",
        "For the bias term the derivative is similar but it is not dependent on $x$ since $\\frac{\\partial h(x)}{\\partial \\theta_0} =  1$\n",
        "\n",
        "$$ \\frac{\\partial J(\\theta)}{\\partial \\theta_0} = z(x)-y $$\n",
        "\n",
        "Finally, recovering the subindex notation for all the samples in our training set we can express the gradient of the cost function with respect to each parameter. For the weight case:\n",
        "\n",
        "$$ \\frac{\\partial J(\\theta)}{\\partial \\theta_j} = \\frac{1}{m} \\sum_{i=1}^m (z_\\theta(x^{(i)}) - y^{(i)})x_j^{(i)}. $$\n",
        "\n",
        "And for the bias case:\n",
        "\n",
        "$$ \\frac{\\partial J(\\theta)}{\\partial \\theta_0} = \\frac{1}{m} \\sum_{i=1}^m (z_\\theta(x^{(i)}) - y^{(i)}). $$\n",
        "\n",
        "With this two formulas now we can use these gradients to update the parameters in the gradient descent algorithm."
      ]
    },
    {
      "cell_type": "markdown",
      "metadata": {
        "id": "1LWZ43w8I1Ng"
      },
      "source": [
        "**The full algorithm is:**\n",
        "1. Initialize the weights randomly. \n",
        "2. Calculate the gradients of cost function w.r.t parameters.\n",
        "3. Update the weights by $ \\theta_j \\leftarrow \\theta_j - \\alpha \\frac{\\partial}{\\partial\\theta_j}J(\\theta). $\n",
        "4. Update the bias by $ \\theta_0 \\leftarrow \\theta_0 - \\alpha \\frac{\\partial}{\\partial \\theta_0}J(\\theta). $\n",
        "5. Repeat until value of cost function does not change or to a pre-defined number of iterations."
      ]
    },
    {
      "cell_type": "markdown",
      "metadata": {
        "id": "Vg8ZJSK4I1Ng"
      },
      "source": [
        "Write a function for the cost and one for its derivative with respect to the weights and one with respect to the bias. Note that the derivative function will return the number of values corresponing the the number of weights that you have. Also note that we are only doing this for one training point."
      ]
    },
    {
      "cell_type": "code",
      "execution_count": 8,
      "metadata": {
        "id": "0hKyWTJ5I1Ng"
      },
      "outputs": [],
      "source": [
        "def cost_function(y, x, bias, weights):\n",
        "    \"\"\" param y: Ground truth label for measurements\n",
        "        param x: vector containing measurements. x = [x1, x2]\n",
        "        param bias: single value\n",
        "        param weight: vector containing model weights. weights= [w1,w2]\n",
        "    \n",
        "        return: value of the cost function. In this case BCE\n",
        "    \"\"\"\n",
        "    cost = 0\n",
        "    for i in range(len(y)):\n",
        "        z = z_x(x[i], bias, weights)\n",
        "        cost += (y[i]*np.log(z) + (1-y[i])*np.log(1-z))\n",
        "    cost *=-1    \n",
        "    m= len(y)  \n",
        "    return cost/m\n",
        "    "
      ]
    },
    {
      "cell_type": "code",
      "execution_count": 9,
      "metadata": {
        "id": "dlCH88cqI1Ng"
      },
      "outputs": [],
      "source": [
        "def derivative_weights(y, x, bias, weights):\n",
        "    \"\"\" param y: Ground truth label for measurements\n",
        "        param x: vector containing measurements. x = [x1, x2]\n",
        "        param bias: single value\n",
        "        param weight: vector containing model weights. weights= [w1,w2]\n",
        "    \n",
        "        return: derivative of cost function with respect to the weights, dw = [dw1, dw2]\n",
        "    \"\"\"\n",
        "    cost_deriv = np.zeros(len(weights))\n",
        "    for j in range(len(y)):\n",
        "        z = z_x(x[j], bias, weights)\n",
        "        cost_deriv += (z - y[j])*x[j]\n",
        "    m = len(y)    \n",
        "    return cost_deriv/m\n"
      ]
    },
    {
      "cell_type": "code",
      "execution_count": 10,
      "metadata": {
        "id": "BwM9d56KI1Ng"
      },
      "outputs": [],
      "source": [
        "def derivative_bias(y, x, bias, weights):\n",
        "    \"\"\" param y: Ground truth label for measurements\n",
        "        param x: vector containing measurements. x = [x1, x2]\n",
        "        param bias: single value\n",
        "        param weight: vector containing model weights. weights= [w1,w2]\n",
        "    \n",
        "        return: derivative of cost function with respect to the bias\n",
        "    \"\"\"\n",
        "    cost_deriv = 0\n",
        "    for j in range(len(y)):\n",
        "        z = z_x(x[j], bias, weights)\n",
        "        cost_deriv += (z - y[j])\n",
        "    m= len(y)\n",
        "    return cost_deriv/m\n",
        "\n",
        "  "
      ]
    },
    {
      "cell_type": "markdown",
      "metadata": {
        "id": "Aqq-sAO4I1Ng"
      },
      "source": [
        "Finally lets fit the logistic regression model with gradient descent across all training data points. As we saw before, gradient descent works by, at each iteration, average the total cost and the derivatives on over the full training set.\n",
        "\n",
        "Implement gradient descent for logistic regression. Experiment with different learning rates and number of iterations to see if you get differnt solutions."
      ]
    },
    {
      "cell_type": "code",
      "execution_count": 11,
      "metadata": {
        "colab": {
          "base_uri": "https://localhost:8080/"
        },
        "id": "T4QXewkqI1Ng",
        "outputId": "47fe8c1c-95dd-40c6-c8c7-d2e8bdb5f027"
      },
      "outputs": [
        {
          "output_type": "stream",
          "name": "stdout",
          "text": [
            "iteration:  999  cost:  0.10085283203266796\n"
          ]
        }
      ],
      "source": [
        "lr = 0.1 # <-- specify learning rate\n",
        "\n",
        "# Initialize weights and bias as random\n",
        "bias = np.random.normal()\n",
        "weights = np.random.normal(size = len(x[0]))\n",
        "\n",
        "\n",
        "number_of_iterations = 1000 # <-- number of iterations to perform gradient descent\n",
        "\n",
        "# Loop through training data and update the weights at each iteration\n",
        "\n",
        "for it in range(number_of_iterations):\n",
        "# .. Code for gradient descent for logistic regression\n",
        "\n",
        "    # Calculating the cost\n",
        "    cost = cost_function(y, x, bias, weights)\n",
        "    \n",
        "    # Calculating derivatives\n",
        "    dw = derivative_weights(y, x, bias, weights)\n",
        "    db = derivative_bias(y, x, bias, weights)\n",
        "    \n",
        "    # Updating weights and bias\n",
        "    weights -= lr * dw\n",
        "    bias -= lr * db\n",
        "    \n",
        "    \n",
        "    clear_output(wait=True) # This is used to clear the output for cleaner printing, can be removed if it causes trouble.\n",
        "    print('iteration: ', it, ' cost: ', cost) # In this case the variable for the current cost is called \"cost\""
      ]
    },
    {
      "cell_type": "code",
      "execution_count": 12,
      "metadata": {
        "colab": {
          "base_uri": "https://localhost:8080/"
        },
        "id": "criLS5LsI1Ng",
        "outputId": "b2e9e16f-1e63-4081-e0a6-dbbd7bfd6323"
      },
      "outputs": [
        {
          "output_type": "stream",
          "name": "stdout",
          "text": [
            "Accuracy:  0.99\n"
          ]
        }
      ],
      "source": [
        "predicted = []\n",
        "for i in range(len(x)):\n",
        "    yhat = z_x(x[i], bias, weights)\n",
        "    predicted.append(round(yhat))\n",
        "\n",
        "print('Accuracy: ', np.sum(np.equal(y,predicted)) / len(predicted))"
      ]
    },
    {
      "cell_type": "markdown",
      "metadata": {
        "id": "76PfhzBGI1Ng"
      },
      "source": [
        "Let us plot the decision boundary for the new weights:"
      ]
    },
    {
      "cell_type": "code",
      "execution_count": 13,
      "metadata": {
        "colab": {
          "base_uri": "https://localhost:8080/",
          "height": 268
        },
        "id": "ZCY21Fe2I1Ng",
        "outputId": "429a00cb-fe6c-411f-ce45-7ccc722d1092"
      },
      "outputs": [
        {
          "output_type": "display_data",
          "data": {
            "text/plain": [
              "<Figure size 432x288 with 1 Axes>"
            ],
            "image/png": "[encoded data removed]"
          },
          "metadata": {
            "needs_background": "light"
          }
        }
      ],
      "source": [
        "x_values = x[:,0]\n",
        "y_values = - (bias + weights[0]*x_values) / weights[1]\n",
        "\n",
        "plt.figure()\n",
        "for label in np.unique(y):\n",
        "    plt.scatter(x[:,0][y==label],x[:,1][y==label], label = data.target_names[label])\n",
        "plt.plot(x_values, y_values, label='Decision Boundary')\n",
        "plt.legend()\n",
        "plt.show()"
      ]
    }
  ],
  "metadata": {
    "kernelspec": {
      "display_name": "Python 3 (ipykernel)",
      "language": "python",
      "name": "python3"
    },
    "language_info": {
      "codemirror_mode": {
        "name": "ipython",
        "version": 3
      },
      "file_extension": ".py",
      "mimetype": "text/x-python",
      "name": "python",
      "nbconvert_exporter": "python",
      "pygments_lexer": "ipython3",
      "version": "3.9.12"
    },
    "vscode": {
      "interpreter": {
        "hash": "674b33fde229fb172653676d8ba5a214aa9d96adab6da7eba1052cbd6e4ad820"
      }
    },
    "colab": {
      "provenance": []
    }
  },
  "nbformat": 4,
  "nbformat_minor": 0
}