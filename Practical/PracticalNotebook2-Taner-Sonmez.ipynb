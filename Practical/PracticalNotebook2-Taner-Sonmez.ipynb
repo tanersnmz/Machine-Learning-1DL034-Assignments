{
 "cells": [
  {
   "cell_type": "markdown",
   "metadata": {
    "id": "eTrDfRyQERZF"
   },
   "source": [
    "# Practical Notebook 2"
   ]
  },
  {
   "cell_type": "markdown",
   "metadata": {
    "id": "El_-ziva0AJK"
   },
   "source": [
    "## Pandas"
   ]
  },
  {
   "cell_type": "markdown",
   "metadata": {
    "id": "bLCRpCwBmJXW"
   },
   "source": [
    "In this course, we will use pandas to import the data into DataFrame objects.   \n",
    "Pandas is a commonly used library working with and manipulating data in various formats, such as txt, csv, excel format, and more.  \n",
    "\n",
    "You can read more about pandas [here](https://pandas.pydata.org/), or by searching online."
   ]
  },
  {
   "cell_type": "code",
   "execution_count": 1,
   "metadata": {
    "id": "Q9MCB5x5finy"
   },
   "outputs": [],
   "source": [
    "# The first thing we need to do is to import pandas\n",
    "import pandas as pd\n",
    "\n",
    "# We will aslo change how the floating point numbers are displayed\n",
    "pd.set_option(\"display.float_format\", lambda x: f\"{x:.5f}\")"
   ]
  },
  {
   "cell_type": "markdown",
   "metadata": {
    "id": "0mNrH639zPD8"
   },
   "source": [
    "### Creating our own dataset to file"
   ]
  },
  {
   "cell_type": "markdown",
   "metadata": {
    "id": "qJ5E9YdJgG4i"
   },
   "source": [
    "We will start by creating our own data set, but later on we will import the data from a file."
   ]
  },
  {
   "cell_type": "code",
   "execution_count": 2,
   "metadata": {
    "id": "nuvD_kRRgK_5"
   },
   "outputs": [],
   "source": [
    "names = ['Alice', 'Bob', 'Charlie']\n",
    "animals = ['Dog', 'Cat', None]\n",
    "age = [27, 12, 43]\n",
    "sex = ['Female', 'Male', 'Male']"
   ]
  },
  {
   "cell_type": "markdown",
   "metadata": {
    "id": "LNPBybFlgNSx"
   },
   "source": [
    "We will then merge the lists together using the *zip* function."
   ]
  },
  {
   "cell_type": "code",
   "execution_count": 3,
   "metadata": {
    "colab": {
     "base_uri": "https://localhost:8080/"
    },
    "id": "pdYdzCf9gPMj",
    "outputId": "79a9db99-9005-44ba-cd38-4e50afd854a1"
   },
   "outputs": [
    {
     "name": "stdout",
     "output_type": "stream",
     "text": [
      "[('Alice', 'Dog', 27, 'Female'), ('Bob', 'Cat', 12, 'Male'), ('Charlie', None, 43, 'Male')]\n"
     ]
    }
   ],
   "source": [
    "people = list(zip(names, animals, age, sex))\n",
    "print(people)"
   ]
  },
  {
   "cell_type": "markdown",
   "metadata": {
    "id": "yI4ZQvclgYDG"
   },
   "source": [
    "Now we can make our merged list into a DataFrame object by using pandas."
   ]
  },
  {
   "cell_type": "code",
   "execution_count": 4,
   "metadata": {
    "colab": {
     "base_uri": "https://localhost:8080/"
    },
    "id": "f95I9vH1gZCz",
    "outputId": "3f251275-3e88-497b-e9a8-952d12b0581e"
   },
   "outputs": [
    {
     "name": "stdout",
     "output_type": "stream",
     "text": [
      "     Names Animals  Age     Sex\n",
      "0    Alice     Dog   27  Female\n",
      "1      Bob     Cat   12    Male\n",
      "2  Charlie    None   43    Male\n"
     ]
    }
   ],
   "source": [
    "df = pd.DataFrame(data=people, columns=['Names','Animals','Age','Sex'])\n",
    "print(df)"
   ]
  },
  {
   "cell_type": "markdown",
   "metadata": {
    "id": "o1Qjvhs_gbKc"
   },
   "source": [
    "You can also export the dataframe to a csv file, where we use the function *to_csv* to export the file. You will find the file you created in the folder you are in. (In colab you will find the folder to the left.)\n",
    "The index parameter is set to *False*, i.e. we won't write the row names to the new file (in this case the row names are *0, 1, 2*). The header parameter is set to *True*, i.e. we will write the column names to the file (in this case the column names are *Names*, *Animals*, *Age*, *Sex*).\n",
    "You can change these parameters yourself to see the difference."
   ]
  },
  {
   "cell_type": "code",
   "execution_count": 5,
   "metadata": {
    "id": "n-meveyygeiL"
   },
   "outputs": [],
   "source": [
    "df.to_csv('test_people.csv', index=False, header=True)"
   ]
  },
  {
   "cell_type": "markdown",
   "metadata": {
    "id": "wndKj8qyzXt6"
   },
   "source": [
    "### Read a dataset from file"
   ]
  },
  {
   "cell_type": "markdown",
   "metadata": {
    "id": "RsxduPJmgfPE"
   },
   "source": [
    "To read the data from a csv file we will use the function *read_csv*."
   ]
  },
  {
   "cell_type": "code",
   "execution_count": 6,
   "metadata": {
    "colab": {
     "base_uri": "https://localhost:8080/"
    },
    "id": "SZ0-SBYhgkBl",
    "outputId": "f08c4eb0-f7e1-44a7-c1c4-f613f63d24ad"
   },
   "outputs": [
    {
     "name": "stdout",
     "output_type": "stream",
     "text": [
      "     Names Animals  Age     Sex\n",
      "0    Alice     Dog   27  Female\n",
      "1      Bob     Cat   12    Male\n",
      "2  Charlie     NaN   43    Male\n"
     ]
    }
   ],
   "source": [
    "df = pd.read_csv('test_people.csv')\n",
    "print(df)"
   ]
  },
  {
   "cell_type": "markdown",
   "metadata": {
    "id": "qpsS-O9rgktf"
   },
   "source": [
    "We can inspect the numerical values in the data using the function describe."
   ]
  },
  {
   "cell_type": "code",
   "execution_count": 7,
   "metadata": {
    "colab": {
     "base_uri": "https://localhost:8080/"
    },
    "id": "NzjtCzFWgq54",
    "outputId": "e0772b6e-3ee9-4d43-a850-d1fa9a4fb2f9"
   },
   "outputs": [
    {
     "name": "stdout",
     "output_type": "stream",
     "text": [
      "           Age\n",
      "count  3.00000\n",
      "mean  27.33333\n",
      "std   15.50269\n",
      "min   12.00000\n",
      "25%   19.50000\n",
      "50%   27.00000\n",
      "75%   35.00000\n",
      "max   43.00000\n"
     ]
    }
   ],
   "source": [
    "print(df.describe())"
   ]
  },
  {
   "cell_type": "markdown",
   "metadata": {
    "id": "znST7y3Egxsc"
   },
   "source": [
    "And look at one specific column by using the names of the header."
   ]
  },
  {
   "cell_type": "code",
   "execution_count": 8,
   "metadata": {
    "colab": {
     "base_uri": "https://localhost:8080/"
    },
    "id": "NQpIs2Etgyhg",
    "outputId": "ce178165-c918-4032-cb5c-41adaa089e06"
   },
   "outputs": [
    {
     "name": "stdout",
     "output_type": "stream",
     "text": [
      "Here you will see the names: \n",
      "0      Alice\n",
      "1        Bob\n",
      "2    Charlie\n",
      "Name: Names, dtype: object\n",
      "\n",
      "Here you will see the animals: \n",
      "0    Dog\n",
      "1    Cat\n",
      "2    NaN\n",
      "Name: Animals, dtype: object\n",
      "\n",
      "Here you will see the ages: \n",
      "0    27\n",
      "1    12\n",
      "2    43\n",
      "Name: Age, dtype: int64\n",
      "\n",
      "Here you will see the sex: \n",
      "0    Female\n",
      "1      Male\n",
      "2      Male\n",
      "Name: Sex, dtype: object\n"
     ]
    }
   ],
   "source": [
    "print(f\"Here you will see the names: \\n{df['Names']}\")\n",
    "print(f\"\\nHere you will see the animals: \\n{df['Animals']}\")\n",
    "print(f\"\\nHere you will see the ages: \\n{df['Age']}\")\n",
    "print(f\"\\nHere you will see the sex: \\n{df['Sex']}\")"
   ]
  },
  {
   "cell_type": "markdown",
   "metadata": {
    "id": "vihv3StzhfDh"
   },
   "source": [
    "You can also divide the groups into females and males."
   ]
  },
  {
   "cell_type": "code",
   "execution_count": 9,
   "metadata": {
    "colab": {
     "base_uri": "https://localhost:8080/"
    },
    "id": "wjYeLhaJhf9g",
    "outputId": "7db94795-72d0-4e5b-e2bc-b4132e422124"
   },
   "outputs": [
    {
     "name": "stdout",
     "output_type": "stream",
     "text": [
      "Here we have 2 male(s) and 1 female(s).\n"
     ]
    }
   ],
   "source": [
    "male, female = df['Sex'].value_counts()\n",
    "print(f\"Here we have {male} male(s) and {female} female(s).\")"
   ]
  },
  {
   "cell_type": "markdown",
   "metadata": {
    "id": "--S5ieFPhj2y"
   },
   "source": [
    "By looking only at one column, as we did before, we can find some interesting data about it as well."
   ]
  },
  {
   "cell_type": "code",
   "execution_count": 10,
   "metadata": {
    "colab": {
     "base_uri": "https://localhost:8080/"
    },
    "id": "0mj5jLlphlpC",
    "outputId": "e1042134-eab4-4d1e-c30a-ad6ce7b1296e"
   },
   "outputs": [
    {
     "name": "stdout",
     "output_type": "stream",
     "text": [
      "mean: 27.33\n",
      "std: 15.50\n"
     ]
    }
   ],
   "source": [
    "# finding the mean value of the ages (with 2 decimals)\n",
    "print(f\"mean: {df['Age'].mean():.2f}\")\n",
    "# and the standard deviation (with 2 decimals)\n",
    "print(f\"std: {df['Age'].std():.2f}\")"
   ]
  },
  {
   "cell_type": "markdown",
   "metadata": {
    "id": "TE7piMNGQWct"
   },
   "source": [
    "### Titanic"
   ]
  },
  {
   "cell_type": "markdown",
   "metadata": {
    "id": "2azINX-Lhwwi"
   },
   "source": [
    "Now we will download and use a larger dataset, to get a better understanding about the pandas library. The dataset contains passenger data from Titanic, and later on we will predict \"what sort of people were most likely to survive?\". The passenger data has 7 features: Name, Sex, Socio-economic class, Siblings/Spouses Aboard, Parents/Children Aboard and Fare and a binary responce variable \"survived\"."
   ]
  },
  {
   "cell_type": "code",
   "execution_count": 37,
   "metadata": {
    "colab": {
     "base_uri": "https://localhost:8080/"
    },
    "id": "9R7iLX18hxem",
    "outputId": "de673e9b-ffbe-4922-e013-d734a2693a08"
   },
   "outputs": [
    {
     "name": "stdout",
     "output_type": "stream",
     "text": [
      "--2023-02-02 13:57:05--  https://web.stanford.edu/class/archive/cs/cs109/cs109.1166/stuff/titanic.csv\n",
      "Resolving web.stanford.edu (web.stanford.edu)... 171.67.215.200, 2607:f6d0:0:925a::ab43:d7c8\n",
      "Connecting to web.stanford.edu (web.stanford.edu)|171.67.215.200|:443... connected.\n",
      "HTTP request sent, awaiting response... 200 OK\n",
      "Length: 44225 (43K) [text/csv]\n",
      "Saving to: ‘titanic.csv.3’\n",
      "\n",
      "titanic.csv.3       100%[===================>]  43.19K  --.-KB/s    in 0.08s   \n",
      "\n",
      "2023-02-02 13:57:05 (571 KB/s) - ‘titanic.csv.3’ saved [44225/44225]\n",
      "\n"
     ]
    }
   ],
   "source": [
    "# Downloading the titanic dataset\n",
    "!wget https://web.stanford.edu/class/archive/cs/cs109/cs109.1166/stuff/titanic.csv"
   ]
  },
  {
   "cell_type": "markdown",
   "metadata": {
    "id": "OPi9VMPTM32q"
   },
   "source": [
    "#### Assignment a)"
   ]
  },
  {
   "cell_type": "code",
   "execution_count": 12,
   "metadata": {
    "colab": {
     "base_uri": "https://localhost:8080/"
    },
    "id": "Q_qVAI1Wh9Qm",
    "outputId": "4b449a2d-13fa-4831-8861-feaa262baed9"
   },
   "outputs": [
    {
     "name": "stdout",
     "output_type": "stream",
     "text": [
      "       Survived    Pclass       Age  Siblings/Spouses Aboard  \\\n",
      "count 887.00000 887.00000 887.00000                887.00000   \n",
      "mean    0.38557   2.30552  29.47144                  0.52537   \n",
      "std     0.48700   0.83666  14.12191                  1.10467   \n",
      "min     0.00000   1.00000   0.42000                  0.00000   \n",
      "25%     0.00000   2.00000  20.25000                  0.00000   \n",
      "50%     0.00000   3.00000  28.00000                  0.00000   \n",
      "75%     1.00000   3.00000  38.00000                  1.00000   \n",
      "max     1.00000   3.00000  80.00000                  8.00000   \n",
      "\n",
      "       Parents/Children Aboard      Fare  \n",
      "count                887.00000 887.00000  \n",
      "mean                   0.38331  32.30542  \n",
      "std                    0.80747  49.78204  \n",
      "min                    0.00000   0.00000  \n",
      "25%                    0.00000   7.92500  \n",
      "50%                    0.00000  14.45420  \n",
      "75%                    0.00000  31.13750  \n",
      "max                    6.00000 512.32920  \n"
     ]
    }
   ],
   "source": [
    "# ASSIGNMENT:\n",
    "# Load the data and get familiar with it \n",
    "# Use the .describe() method to inspect numerical values\n",
    "\n",
    "\n",
    "df = pd.read_csv(\"titanic.csv\")\n",
    "print(df.describe())\n"
   ]
  },
  {
   "cell_type": "markdown",
   "metadata": {
    "id": "1VDou76wNrOZ"
   },
   "source": [
    "#### Assignment b)"
   ]
  },
  {
   "cell_type": "code",
   "execution_count": 38,
   "metadata": {
    "colab": {
     "base_uri": "https://localhost:8080/"
    },
    "id": "L74NoZY3iPSF",
    "outputId": "0c0ebde0-e73c-49a4-9082-adc0567e86ea"
   },
   "outputs": [
    {
     "name": "stdout",
     "output_type": "stream",
     "text": [
      "Male: 573 Female: 314\n"
     ]
    }
   ],
   "source": [
    "# ASSIGNMENT:\n",
    "# Count the number of males and females\n",
    "\n",
    "\n",
    "male, female = df[\"Sex\"].value_counts()[\"male\"],df[\"Sex\"].value_counts()[\"female\"]\n",
    "print(\"Male:\",male, \"Female:\",female)\n",
    "\n"
   ]
  },
  {
   "cell_type": "markdown",
   "metadata": {
    "id": "mO-L1rr2OFJm"
   },
   "source": [
    "#### Assignment c)"
   ]
  },
  {
   "cell_type": "code",
   "execution_count": 14,
   "metadata": {
    "colab": {
     "base_uri": "https://localhost:8080/"
    },
    "id": "WEuXIDGUiRLS",
    "outputId": "dd0b5060-3688-4d9b-f34e-fc24cb4ce9a3"
   },
   "outputs": [
    {
     "name": "stdout",
     "output_type": "stream",
     "text": [
      "mean: 32.31\n",
      "std: 49.78\n"
     ]
    }
   ],
   "source": [
    "# ASSIGNMENT:\n",
    "# Find the mean fare and display with 2 floating point numbers\n",
    "\n",
    "mean_fare = df[\"Fare\"].mean()\n",
    "print(f\"mean: {mean_fare:.2f}\")\n",
    "\n",
    "# Find the standard deviation of the fare and display with 2 floating point numbers\n",
    "\n",
    "std_fare = df[\"Fare\"].std()\n",
    "print(f\"std: {std_fare:.2f}\")\n"
   ]
  },
  {
   "cell_type": "markdown",
   "metadata": {
    "id": "cIKUqpcOSBqF"
   },
   "source": [
    "#### Assignment d)"
   ]
  },
  {
   "cell_type": "code",
   "execution_count": 39,
   "metadata": {
    "colab": {
     "base_uri": "https://localhost:8080/"
    },
    "id": "bgtS3DBJiT4-",
    "outputId": "86c566b5-6e32-43bf-9795-6d47024c0f54"
   },
   "outputs": [
    {
     "name": "stdout",
     "output_type": "stream",
     "text": [
      "Died: 545 Survived: 342\n"
     ]
    }
   ],
   "source": [
    "# ASSIGNMENT:\n",
    "# Count how many survived (1) and how many died (0)\n",
    "\n",
    "# YOUR CODE HERE\n",
    "\n",
    "\n",
    "died, survived =df[\"Survived\"].value_counts()[0],df[\"Survived\"].value_counts()[1]\n",
    "print(\"Died:\",died, \"Survived:\",survived)\n",
    "\n"
   ]
  },
  {
   "cell_type": "markdown",
   "metadata": {
    "id": "iX4N-tncTGtT"
   },
   "source": [
    "#### Assignment e)"
   ]
  },
  {
   "cell_type": "code",
   "execution_count": 16,
   "metadata": {
    "colab": {
     "base_uri": "https://localhost:8080/"
    },
    "id": "ipRuo8s8iWD1",
    "outputId": "35ff944b-cb75-4d55-fcb6-a9adf15d39d3"
   },
   "outputs": [
    {
     "name": "stdout",
     "output_type": "stream",
     "text": [
      "233 109\n"
     ]
    }
   ],
   "source": [
    "# ASSIGNMENT:\n",
    "# count and display the number of women who surived \n",
    "# and the number of men who survived\n",
    "\n",
    "# YOUR CODE HERE\n",
    "\n",
    "\n",
    "female_survived, male_survived = df[df[\"Sex\"]==\"female\"][\"Survived\"].value_counts()[1],df[df[\"Sex\"]==\"male\"][\"Survived\"].value_counts()[1]\n",
    "print(female_survived, male_survived)\n",
    "\n",
    "\n"
   ]
  },
  {
   "cell_type": "markdown",
   "metadata": {
    "id": "Aj62sNUqOyS4"
   },
   "source": [
    "#### Assignment f)"
   ]
  },
  {
   "cell_type": "code",
   "execution_count": 45,
   "metadata": {
    "id": "JolMP8qRPDL3"
   },
   "outputs": [],
   "source": [
    "# ASSIGNMENT:\n",
    "# Separate the dataset from Titanic into X and y,\n",
    "# where y is the column Survived, and X is the rest.\n",
    "# Inspect the data. Look at for instance the function \"describe\" in pandas\n",
    "\n",
    "# YOUR CODE HERE\n",
    "\n",
    "X =df.drop(\"Survived\", axis=1)\n",
    "y =df[[\"Survived\"]]\n",
    "\n",
    "x_describe = X.describe()\n",
    "y_describe = y.describe()\n",
    "\n",
    "\n"
   ]
  },
  {
   "cell_type": "code",
   "execution_count": 46,
   "metadata": {
    "colab": {
     "base_uri": "https://localhost:8080/",
     "height": 300
    },
    "id": "WNAkZ1apblE1",
    "outputId": "fbd966df-dd1b-401c-c659-6c770283b6a5"
   },
   "outputs": [
    {
     "data": {
      "text/html": [
       "\n",
       "  <div id=\"df-2360ea3b-b355-4842-a475-8e9f35a36302\">\n",
       "    <div class=\"colab-df-container\">\n",
       "      <div>\n",
       "<style scoped>\n",
       "    .dataframe tbody tr th:only-of-type {\n",
       "        vertical-align: middle;\n",
       "    }\n",
       "\n",
       "    .dataframe tbody tr th {\n",
       "        vertical-align: top;\n",
       "    }\n",
       "\n",
       "    .dataframe thead th {\n",
       "        text-align: right;\n",
       "    }\n",
       "</style>\n",
       "<table border=\"1\" class=\"dataframe\">\n",
       "  <thead>\n",
       "    <tr style=\"text-align: right;\">\n",
       "      <th></th>\n",
       "      <th>Pclass</th>\n",
       "      <th>Age</th>\n",
       "      <th>Siblings/Spouses Aboard</th>\n",
       "      <th>Parents/Children Aboard</th>\n",
       "      <th>Fare</th>\n",
       "    </tr>\n",
       "  </thead>\n",
       "  <tbody>\n",
       "    <tr>\n",
       "      <th>count</th>\n",
       "      <td>887.00000</td>\n",
       "      <td>887.00000</td>\n",
       "      <td>887.00000</td>\n",
       "      <td>887.00000</td>\n",
       "      <td>887.00000</td>\n",
       "    </tr>\n",
       "    <tr>\n",
       "      <th>mean</th>\n",
       "      <td>2.30552</td>\n",
       "      <td>29.47144</td>\n",
       "      <td>0.52537</td>\n",
       "      <td>0.38331</td>\n",
       "      <td>32.30542</td>\n",
       "    </tr>\n",
       "    <tr>\n",
       "      <th>std</th>\n",
       "      <td>0.83666</td>\n",
       "      <td>14.12191</td>\n",
       "      <td>1.10467</td>\n",
       "      <td>0.80747</td>\n",
       "      <td>49.78204</td>\n",
       "    </tr>\n",
       "    <tr>\n",
       "      <th>min</th>\n",
       "      <td>1.00000</td>\n",
       "      <td>0.42000</td>\n",
       "      <td>0.00000</td>\n",
       "      <td>0.00000</td>\n",
       "      <td>0.00000</td>\n",
       "    </tr>\n",
       "    <tr>\n",
       "      <th>25%</th>\n",
       "      <td>2.00000</td>\n",
       "      <td>20.25000</td>\n",
       "      <td>0.00000</td>\n",
       "      <td>0.00000</td>\n",
       "      <td>7.92500</td>\n",
       "    </tr>\n",
       "    <tr>\n",
       "      <th>50%</th>\n",
       "      <td>3.00000</td>\n",
       "      <td>28.00000</td>\n",
       "      <td>0.00000</td>\n",
       "      <td>0.00000</td>\n",
       "      <td>14.45420</td>\n",
       "    </tr>\n",
       "    <tr>\n",
       "      <th>75%</th>\n",
       "      <td>3.00000</td>\n",
       "      <td>38.00000</td>\n",
       "      <td>1.00000</td>\n",
       "      <td>0.00000</td>\n",
       "      <td>31.13750</td>\n",
       "    </tr>\n",
       "    <tr>\n",
       "      <th>max</th>\n",
       "      <td>3.00000</td>\n",
       "      <td>80.00000</td>\n",
       "      <td>8.00000</td>\n",
       "      <td>6.00000</td>\n",
       "      <td>512.32920</td>\n",
       "    </tr>\n",
       "  </tbody>\n",
       "</table>\n",
       "</div>\n",
       "      <button class=\"colab-df-convert\" onclick=\"convertToInteractive('df-2360ea3b-b355-4842-a475-8e9f35a36302')\"\n",
       "              title=\"Convert this dataframe to an interactive table.\"\n",
       "              style=\"display:none;\">\n",
       "        \n",
       "  <svg xmlns=\"http://www.w3.org/2000/svg\" height=\"24px\"viewBox=\"0 0 24 24\"\n",
       "       width=\"24px\">\n",
       "    <path d=\"M0 0h24v24H0V0z\" fill=\"none\"/>\n",
       "    <path d=\"M18.56 5.44l.94 2.06.94-2.06 2.06-.94-2.06-.94-.94-2.06-.94 2.06-2.06.94zm-11 1L8.5 8.5l.94-2.06 2.06-.94-2.06-.94L8.5 2.5l-.94 2.06-2.06.94zm10 10l.94 2.06.94-2.06 2.06-.94-2.06-.94-.94-2.06-.94 2.06-2.06.94z\"/><path d=\"M17.41 7.96l-1.37-1.37c-.4-.4-.92-.59-1.43-.59-.52 0-1.04.2-1.43.59L10.3 9.45l-7.72 7.72c-.78.78-.78 2.05 0 2.83L4 21.41c.39.39.9.59 1.41.59.51 0 1.02-.2 1.41-.59l7.78-7.78 2.81-2.81c.8-.78.8-2.07 0-2.86zM5.41 20L4 18.59l7.72-7.72 1.47 1.35L5.41 20z\"/>\n",
       "  </svg>\n",
       "      </button>\n",
       "      \n",
       "  <style>\n",
       "    .colab-df-container {\n",
       "      display:flex;\n",
       "      flex-wrap:wrap;\n",
       "      gap: 12px;\n",
       "    }\n",
       "\n",
       "    .colab-df-convert {\n",
       "      background-color: #E8F0FE;\n",
       "      border: none;\n",
       "      border-radius: 50%;\n",
       "      cursor: pointer;\n",
       "      display: none;\n",
       "      fill: #1967D2;\n",
       "      height: 32px;\n",
       "      padding: 0 0 0 0;\n",
       "      width: 32px;\n",
       "    }\n",
       "\n",
       "    .colab-df-convert:hover {\n",
       "      background-color: #E2EBFA;\n",
       "      box-shadow: 0px 1px 2px rgba(60, 64, 67, 0.3), 0px 1px 3px 1px rgba(60, 64, 67, 0.15);\n",
       "      fill: #174EA6;\n",
       "    }\n",
       "\n",
       "    [theme=dark] .colab-df-convert {\n",
       "      background-color: #3B4455;\n",
       "      fill: #D2E3FC;\n",
       "    }\n",
       "\n",
       "    [theme=dark] .colab-df-convert:hover {\n",
       "      background-color: #434B5C;\n",
       "      box-shadow: 0px 1px 3px 1px rgba(0, 0, 0, 0.15);\n",
       "      filter: drop-shadow(0px 1px 2px rgba(0, 0, 0, 0.3));\n",
       "      fill: #FFFFFF;\n",
       "    }\n",
       "  </style>\n",
       "\n",
       "      <script>\n",
       "        const buttonEl =\n",
       "          document.querySelector('#df-2360ea3b-b355-4842-a475-8e9f35a36302 button.colab-df-convert');\n",
       "        buttonEl.style.display =\n",
       "          google.colab.kernel.accessAllowed ? 'block' : 'none';\n",
       "\n",
       "        async function convertToInteractive(key) {\n",
       "          const element = document.querySelector('#df-2360ea3b-b355-4842-a475-8e9f35a36302');\n",
       "          const dataTable =\n",
       "            await google.colab.kernel.invokeFunction('convertToInteractive',\n",
       "                                                     [key], {});\n",
       "          if (!dataTable) return;\n",
       "\n",
       "          const docLinkHtml = 'Like what you see? Visit the ' +\n",
       "            '<a target=\"_blank\" href=https://colab.research.google.com/notebooks/data_table.ipynb>data table notebook</a>'\n",
       "            + ' to learn more about interactive tables.';\n",
       "          element.innerHTML = '';\n",
       "          dataTable['output_type'] = 'display_data';\n",
       "          await google.colab.output.renderOutput(dataTable, element);\n",
       "          const docLink = document.createElement('div');\n",
       "          docLink.innerHTML = docLinkHtml;\n",
       "          element.appendChild(docLink);\n",
       "        }\n",
       "      </script>\n",
       "    </div>\n",
       "  </div>\n",
       "  "
      ],
      "text/plain": [
       "         Pclass       Age  Siblings/Spouses Aboard  Parents/Children Aboard  \\\n",
       "count 887.00000 887.00000                887.00000                887.00000   \n",
       "mean    2.30552  29.47144                  0.52537                  0.38331   \n",
       "std     0.83666  14.12191                  1.10467                  0.80747   \n",
       "min     1.00000   0.42000                  0.00000                  0.00000   \n",
       "25%     2.00000  20.25000                  0.00000                  0.00000   \n",
       "50%     3.00000  28.00000                  0.00000                  0.00000   \n",
       "75%     3.00000  38.00000                  1.00000                  0.00000   \n",
       "max     3.00000  80.00000                  8.00000                  6.00000   \n",
       "\n",
       "           Fare  \n",
       "count 887.00000  \n",
       "mean   32.30542  \n",
       "std    49.78204  \n",
       "min     0.00000  \n",
       "25%     7.92500  \n",
       "50%    14.45420  \n",
       "75%    31.13750  \n",
       "max   512.32920  "
      ]
     },
     "execution_count": 46,
     "metadata": {},
     "output_type": "execute_result"
    }
   ],
   "source": [
    "x_describe"
   ]
  },
  {
   "cell_type": "code",
   "execution_count": 47,
   "metadata": {
    "colab": {
     "base_uri": "https://localhost:8080/",
     "height": 300
    },
    "id": "HPOFEWA4bZiD",
    "outputId": "c24ff518-9160-419e-81cf-bdae835c6fe9"
   },
   "outputs": [
    {
     "data": {
      "text/html": [
       "\n",
       "  <div id=\"df-c19be87d-c21d-495a-96c6-d169509daf7d\">\n",
       "    <div class=\"colab-df-container\">\n",
       "      <div>\n",
       "<style scoped>\n",
       "    .dataframe tbody tr th:only-of-type {\n",
       "        vertical-align: middle;\n",
       "    }\n",
       "\n",
       "    .dataframe tbody tr th {\n",
       "        vertical-align: top;\n",
       "    }\n",
       "\n",
       "    .dataframe thead th {\n",
       "        text-align: right;\n",
       "    }\n",
       "</style>\n",
       "<table border=\"1\" class=\"dataframe\">\n",
       "  <thead>\n",
       "    <tr style=\"text-align: right;\">\n",
       "      <th></th>\n",
       "      <th>Survived</th>\n",
       "    </tr>\n",
       "  </thead>\n",
       "  <tbody>\n",
       "    <tr>\n",
       "      <th>count</th>\n",
       "      <td>887.00000</td>\n",
       "    </tr>\n",
       "    <tr>\n",
       "      <th>mean</th>\n",
       "      <td>0.38557</td>\n",
       "    </tr>\n",
       "    <tr>\n",
       "      <th>std</th>\n",
       "      <td>0.48700</td>\n",
       "    </tr>\n",
       "    <tr>\n",
       "      <th>min</th>\n",
       "      <td>0.00000</td>\n",
       "    </tr>\n",
       "    <tr>\n",
       "      <th>25%</th>\n",
       "      <td>0.00000</td>\n",
       "    </tr>\n",
       "    <tr>\n",
       "      <th>50%</th>\n",
       "      <td>0.00000</td>\n",
       "    </tr>\n",
       "    <tr>\n",
       "      <th>75%</th>\n",
       "      <td>1.00000</td>\n",
       "    </tr>\n",
       "    <tr>\n",
       "      <th>max</th>\n",
       "      <td>1.00000</td>\n",
       "    </tr>\n",
       "  </tbody>\n",
       "</table>\n",
       "</div>\n",
       "      <button class=\"colab-df-convert\" onclick=\"convertToInteractive('df-c19be87d-c21d-495a-96c6-d169509daf7d')\"\n",
       "              title=\"Convert this dataframe to an interactive table.\"\n",
       "              style=\"display:none;\">\n",
       "        \n",
       "  <svg xmlns=\"http://www.w3.org/2000/svg\" height=\"24px\"viewBox=\"0 0 24 24\"\n",
       "       width=\"24px\">\n",
       "    <path d=\"M0 0h24v24H0V0z\" fill=\"none\"/>\n",
       "    <path d=\"M18.56 5.44l.94 2.06.94-2.06 2.06-.94-2.06-.94-.94-2.06-.94 2.06-2.06.94zm-11 1L8.5 8.5l.94-2.06 2.06-.94-2.06-.94L8.5 2.5l-.94 2.06-2.06.94zm10 10l.94 2.06.94-2.06 2.06-.94-2.06-.94-.94-2.06-.94 2.06-2.06.94z\"/><path d=\"M17.41 7.96l-1.37-1.37c-.4-.4-.92-.59-1.43-.59-.52 0-1.04.2-1.43.59L10.3 9.45l-7.72 7.72c-.78.78-.78 2.05 0 2.83L4 21.41c.39.39.9.59 1.41.59.51 0 1.02-.2 1.41-.59l7.78-7.78 2.81-2.81c.8-.78.8-2.07 0-2.86zM5.41 20L4 18.59l7.72-7.72 1.47 1.35L5.41 20z\"/>\n",
       "  </svg>\n",
       "      </button>\n",
       "      \n",
       "  <style>\n",
       "    .colab-df-container {\n",
       "      display:flex;\n",
       "      flex-wrap:wrap;\n",
       "      gap: 12px;\n",
       "    }\n",
       "\n",
       "    .colab-df-convert {\n",
       "      background-color: #E8F0FE;\n",
       "      border: none;\n",
       "      border-radius: 50%;\n",
       "      cursor: pointer;\n",
       "      display: none;\n",
       "      fill: #1967D2;\n",
       "      height: 32px;\n",
       "      padding: 0 0 0 0;\n",
       "      width: 32px;\n",
       "    }\n",
       "\n",
       "    .colab-df-convert:hover {\n",
       "      background-color: #E2EBFA;\n",
       "      box-shadow: 0px 1px 2px rgba(60, 64, 67, 0.3), 0px 1px 3px 1px rgba(60, 64, 67, 0.15);\n",
       "      fill: #174EA6;\n",
       "    }\n",
       "\n",
       "    [theme=dark] .colab-df-convert {\n",
       "      background-color: #3B4455;\n",
       "      fill: #D2E3FC;\n",
       "    }\n",
       "\n",
       "    [theme=dark] .colab-df-convert:hover {\n",
       "      background-color: #434B5C;\n",
       "      box-shadow: 0px 1px 3px 1px rgba(0, 0, 0, 0.15);\n",
       "      filter: drop-shadow(0px 1px 2px rgba(0, 0, 0, 0.3));\n",
       "      fill: #FFFFFF;\n",
       "    }\n",
       "  </style>\n",
       "\n",
       "      <script>\n",
       "        const buttonEl =\n",
       "          document.querySelector('#df-c19be87d-c21d-495a-96c6-d169509daf7d button.colab-df-convert');\n",
       "        buttonEl.style.display =\n",
       "          google.colab.kernel.accessAllowed ? 'block' : 'none';\n",
       "\n",
       "        async function convertToInteractive(key) {\n",
       "          const element = document.querySelector('#df-c19be87d-c21d-495a-96c6-d169509daf7d');\n",
       "          const dataTable =\n",
       "            await google.colab.kernel.invokeFunction('convertToInteractive',\n",
       "                                                     [key], {});\n",
       "          if (!dataTable) return;\n",
       "\n",
       "          const docLinkHtml = 'Like what you see? Visit the ' +\n",
       "            '<a target=\"_blank\" href=https://colab.research.google.com/notebooks/data_table.ipynb>data table notebook</a>'\n",
       "            + ' to learn more about interactive tables.';\n",
       "          element.innerHTML = '';\n",
       "          dataTable['output_type'] = 'display_data';\n",
       "          await google.colab.output.renderOutput(dataTable, element);\n",
       "          const docLink = document.createElement('div');\n",
       "          docLink.innerHTML = docLinkHtml;\n",
       "          element.appendChild(docLink);\n",
       "        }\n",
       "      </script>\n",
       "    </div>\n",
       "  </div>\n",
       "  "
      ],
      "text/plain": [
       "       Survived\n",
       "count 887.00000\n",
       "mean    0.38557\n",
       "std     0.48700\n",
       "min     0.00000\n",
       "25%     0.00000\n",
       "50%     0.00000\n",
       "75%     1.00000\n",
       "max     1.00000"
      ]
     },
     "execution_count": 47,
     "metadata": {},
     "output_type": "execute_result"
    }
   ],
   "source": [
    "y_describe"
   ]
  },
  {
   "cell_type": "markdown",
   "metadata": {
    "id": "Phxrqf8nTpuX"
   },
   "source": [
    "#### Assignment g)"
   ]
  },
  {
   "cell_type": "code",
   "execution_count": 48,
   "metadata": {
    "colab": {
     "base_uri": "https://localhost:8080/"
    },
    "id": "ID5gCYiNTpuX",
    "outputId": "8de14d14-9a8e-451d-910f-8e3a12291d75"
   },
   "outputs": [
    {
     "name": "stderr",
     "output_type": "stream",
     "text": [
      "<ipython-input-48-56c909be9323>:8: FutureWarning: Dropping of nuisance columns in DataFrame reductions (with 'numeric_only=None') is deprecated; in a future version this will raise TypeError.  Select only valid columns before calling the reduction.\n",
      "  X_new = (X-X.mean())/X.std()\n"
     ]
    }
   ],
   "source": [
    "# ASSIGNMENT:\n",
    "# Standardize the data by subtracting the mean and dividing by the standard deviation.\n",
    "# Inpect the data again to see that the mean is (close to) zero and the standard deviation is one.\n",
    "\n",
    "# YOUR CODE HERE\n",
    "\n",
    "\n",
    "X_new = (X-X.mean())/X.std()\n",
    "y_new = (y-y.mean())/y.std()\n",
    "\n",
    "# Inspecting the data again:\n",
    "X_new_describe = X_new.describe()\n",
    "y_new_describe = y_new.describe()\n",
    "\n",
    "\n"
   ]
  },
  {
   "cell_type": "code",
   "execution_count": 49,
   "metadata": {
    "colab": {
     "base_uri": "https://localhost:8080/",
     "height": 300
    },
    "id": "cssV3wV5btZY",
    "outputId": "7de1e76b-eb71-4d0c-f95f-b3bb76b998fc"
   },
   "outputs": [
    {
     "data": {
      "text/html": [
       "\n",
       "  <div id=\"df-adec7090-bdf1-4596-9cbb-cb1ee8290c51\">\n",
       "    <div class=\"colab-df-container\">\n",
       "      <div>\n",
       "<style scoped>\n",
       "    .dataframe tbody tr th:only-of-type {\n",
       "        vertical-align: middle;\n",
       "    }\n",
       "\n",
       "    .dataframe tbody tr th {\n",
       "        vertical-align: top;\n",
       "    }\n",
       "\n",
       "    .dataframe thead th {\n",
       "        text-align: right;\n",
       "    }\n",
       "</style>\n",
       "<table border=\"1\" class=\"dataframe\">\n",
       "  <thead>\n",
       "    <tr style=\"text-align: right;\">\n",
       "      <th></th>\n",
       "      <th>Age</th>\n",
       "      <th>Fare</th>\n",
       "      <th>Parents/Children Aboard</th>\n",
       "      <th>Pclass</th>\n",
       "      <th>Siblings/Spouses Aboard</th>\n",
       "    </tr>\n",
       "  </thead>\n",
       "  <tbody>\n",
       "    <tr>\n",
       "      <th>count</th>\n",
       "      <td>887.00000</td>\n",
       "      <td>887.00000</td>\n",
       "      <td>887.00000</td>\n",
       "      <td>887.00000</td>\n",
       "      <td>887.00000</td>\n",
       "    </tr>\n",
       "    <tr>\n",
       "      <th>mean</th>\n",
       "      <td>0.00000</td>\n",
       "      <td>0.00000</td>\n",
       "      <td>-0.00000</td>\n",
       "      <td>-0.00000</td>\n",
       "      <td>-0.00000</td>\n",
       "    </tr>\n",
       "    <tr>\n",
       "      <th>std</th>\n",
       "      <td>1.00000</td>\n",
       "      <td>1.00000</td>\n",
       "      <td>1.00000</td>\n",
       "      <td>1.00000</td>\n",
       "      <td>1.00000</td>\n",
       "    </tr>\n",
       "    <tr>\n",
       "      <th>min</th>\n",
       "      <td>-2.05719</td>\n",
       "      <td>-0.64894</td>\n",
       "      <td>-0.47471</td>\n",
       "      <td>-1.56040</td>\n",
       "      <td>-0.47559</td>\n",
       "    </tr>\n",
       "    <tr>\n",
       "      <th>25%</th>\n",
       "      <td>-0.65299</td>\n",
       "      <td>-0.48974</td>\n",
       "      <td>-0.47471</td>\n",
       "      <td>-0.36517</td>\n",
       "      <td>-0.47559</td>\n",
       "    </tr>\n",
       "    <tr>\n",
       "      <th>50%</th>\n",
       "      <td>-0.10420</td>\n",
       "      <td>-0.35859</td>\n",
       "      <td>-0.47471</td>\n",
       "      <td>0.83006</td>\n",
       "      <td>-0.47559</td>\n",
       "    </tr>\n",
       "    <tr>\n",
       "      <th>75%</th>\n",
       "      <td>0.60392</td>\n",
       "      <td>-0.02346</td>\n",
       "      <td>-0.47471</td>\n",
       "      <td>0.83006</td>\n",
       "      <td>0.42966</td>\n",
       "    </tr>\n",
       "    <tr>\n",
       "      <th>max</th>\n",
       "      <td>3.57803</td>\n",
       "      <td>9.64251</td>\n",
       "      <td>6.95594</td>\n",
       "      <td>0.83006</td>\n",
       "      <td>6.76640</td>\n",
       "    </tr>\n",
       "  </tbody>\n",
       "</table>\n",
       "</div>\n",
       "      <button class=\"colab-df-convert\" onclick=\"convertToInteractive('df-adec7090-bdf1-4596-9cbb-cb1ee8290c51')\"\n",
       "              title=\"Convert this dataframe to an interactive table.\"\n",
       "              style=\"display:none;\">\n",
       "        \n",
       "  <svg xmlns=\"http://www.w3.org/2000/svg\" height=\"24px\"viewBox=\"0 0 24 24\"\n",
       "       width=\"24px\">\n",
       "    <path d=\"M0 0h24v24H0V0z\" fill=\"none\"/>\n",
       "    <path d=\"M18.56 5.44l.94 2.06.94-2.06 2.06-.94-2.06-.94-.94-2.06-.94 2.06-2.06.94zm-11 1L8.5 8.5l.94-2.06 2.06-.94-2.06-.94L8.5 2.5l-.94 2.06-2.06.94zm10 10l.94 2.06.94-2.06 2.06-.94-2.06-.94-.94-2.06-.94 2.06-2.06.94z\"/><path d=\"M17.41 7.96l-1.37-1.37c-.4-.4-.92-.59-1.43-.59-.52 0-1.04.2-1.43.59L10.3 9.45l-7.72 7.72c-.78.78-.78 2.05 0 2.83L4 21.41c.39.39.9.59 1.41.59.51 0 1.02-.2 1.41-.59l7.78-7.78 2.81-2.81c.8-.78.8-2.07 0-2.86zM5.41 20L4 18.59l7.72-7.72 1.47 1.35L5.41 20z\"/>\n",
       "  </svg>\n",
       "      </button>\n",
       "      \n",
       "  <style>\n",
       "    .colab-df-container {\n",
       "      display:flex;\n",
       "      flex-wrap:wrap;\n",
       "      gap: 12px;\n",
       "    }\n",
       "\n",
       "    .colab-df-convert {\n",
       "      background-color: #E8F0FE;\n",
       "      border: none;\n",
       "      border-radius: 50%;\n",
       "      cursor: pointer;\n",
       "      display: none;\n",
       "      fill: #1967D2;\n",
       "      height: 32px;\n",
       "      padding: 0 0 0 0;\n",
       "      width: 32px;\n",
       "    }\n",
       "\n",
       "    .colab-df-convert:hover {\n",
       "      background-color: #E2EBFA;\n",
       "      box-shadow: 0px 1px 2px rgba(60, 64, 67, 0.3), 0px 1px 3px 1px rgba(60, 64, 67, 0.15);\n",
       "      fill: #174EA6;\n",
       "    }\n",
       "\n",
       "    [theme=dark] .colab-df-convert {\n",
       "      background-color: #3B4455;\n",
       "      fill: #D2E3FC;\n",
       "    }\n",
       "\n",
       "    [theme=dark] .colab-df-convert:hover {\n",
       "      background-color: #434B5C;\n",
       "      box-shadow: 0px 1px 3px 1px rgba(0, 0, 0, 0.15);\n",
       "      filter: drop-shadow(0px 1px 2px rgba(0, 0, 0, 0.3));\n",
       "      fill: #FFFFFF;\n",
       "    }\n",
       "  </style>\n",
       "\n",
       "      <script>\n",
       "        const buttonEl =\n",
       "          document.querySelector('#df-adec7090-bdf1-4596-9cbb-cb1ee8290c51 button.colab-df-convert');\n",
       "        buttonEl.style.display =\n",
       "          google.colab.kernel.accessAllowed ? 'block' : 'none';\n",
       "\n",
       "        async function convertToInteractive(key) {\n",
       "          const element = document.querySelector('#df-adec7090-bdf1-4596-9cbb-cb1ee8290c51');\n",
       "          const dataTable =\n",
       "            await google.colab.kernel.invokeFunction('convertToInteractive',\n",
       "                                                     [key], {});\n",
       "          if (!dataTable) return;\n",
       "\n",
       "          const docLinkHtml = 'Like what you see? Visit the ' +\n",
       "            '<a target=\"_blank\" href=https://colab.research.google.com/notebooks/data_table.ipynb>data table notebook</a>'\n",
       "            + ' to learn more about interactive tables.';\n",
       "          element.innerHTML = '';\n",
       "          dataTable['output_type'] = 'display_data';\n",
       "          await google.colab.output.renderOutput(dataTable, element);\n",
       "          const docLink = document.createElement('div');\n",
       "          docLink.innerHTML = docLinkHtml;\n",
       "          element.appendChild(docLink);\n",
       "        }\n",
       "      </script>\n",
       "    </div>\n",
       "  </div>\n",
       "  "
      ],
      "text/plain": [
       "            Age      Fare  Parents/Children Aboard    Pclass  \\\n",
       "count 887.00000 887.00000                887.00000 887.00000   \n",
       "mean    0.00000   0.00000                 -0.00000  -0.00000   \n",
       "std     1.00000   1.00000                  1.00000   1.00000   \n",
       "min    -2.05719  -0.64894                 -0.47471  -1.56040   \n",
       "25%    -0.65299  -0.48974                 -0.47471  -0.36517   \n",
       "50%    -0.10420  -0.35859                 -0.47471   0.83006   \n",
       "75%     0.60392  -0.02346                 -0.47471   0.83006   \n",
       "max     3.57803   9.64251                  6.95594   0.83006   \n",
       "\n",
       "       Siblings/Spouses Aboard  \n",
       "count                887.00000  \n",
       "mean                  -0.00000  \n",
       "std                    1.00000  \n",
       "min                   -0.47559  \n",
       "25%                   -0.47559  \n",
       "50%                   -0.47559  \n",
       "75%                    0.42966  \n",
       "max                    6.76640  "
      ]
     },
     "execution_count": 49,
     "metadata": {},
     "output_type": "execute_result"
    }
   ],
   "source": [
    "X_new_describe"
   ]
  },
  {
   "cell_type": "code",
   "execution_count": 50,
   "metadata": {
    "colab": {
     "base_uri": "https://localhost:8080/",
     "height": 300
    },
    "id": "V4VDP12TbvWH",
    "outputId": "7bb7876f-11b5-4885-ff2f-4e9b42ccb53a"
   },
   "outputs": [
    {
     "data": {
      "text/html": [
       "\n",
       "  <div id=\"df-6c3d07d8-c4af-443f-a97a-eb195d528889\">\n",
       "    <div class=\"colab-df-container\">\n",
       "      <div>\n",
       "<style scoped>\n",
       "    .dataframe tbody tr th:only-of-type {\n",
       "        vertical-align: middle;\n",
       "    }\n",
       "\n",
       "    .dataframe tbody tr th {\n",
       "        vertical-align: top;\n",
       "    }\n",
       "\n",
       "    .dataframe thead th {\n",
       "        text-align: right;\n",
       "    }\n",
       "</style>\n",
       "<table border=\"1\" class=\"dataframe\">\n",
       "  <thead>\n",
       "    <tr style=\"text-align: right;\">\n",
       "      <th></th>\n",
       "      <th>Survived</th>\n",
       "    </tr>\n",
       "  </thead>\n",
       "  <tbody>\n",
       "    <tr>\n",
       "      <th>count</th>\n",
       "      <td>887.00000</td>\n",
       "    </tr>\n",
       "    <tr>\n",
       "      <th>mean</th>\n",
       "      <td>0.00000</td>\n",
       "    </tr>\n",
       "    <tr>\n",
       "      <th>std</th>\n",
       "      <td>1.00000</td>\n",
       "    </tr>\n",
       "    <tr>\n",
       "      <th>min</th>\n",
       "      <td>-0.79172</td>\n",
       "    </tr>\n",
       "    <tr>\n",
       "      <th>25%</th>\n",
       "      <td>-0.79172</td>\n",
       "    </tr>\n",
       "    <tr>\n",
       "      <th>50%</th>\n",
       "      <td>-0.79172</td>\n",
       "    </tr>\n",
       "    <tr>\n",
       "      <th>75%</th>\n",
       "      <td>1.26165</td>\n",
       "    </tr>\n",
       "    <tr>\n",
       "      <th>max</th>\n",
       "      <td>1.26165</td>\n",
       "    </tr>\n",
       "  </tbody>\n",
       "</table>\n",
       "</div>\n",
       "      <button class=\"colab-df-convert\" onclick=\"convertToInteractive('df-6c3d07d8-c4af-443f-a97a-eb195d528889')\"\n",
       "              title=\"Convert this dataframe to an interactive table.\"\n",
       "              style=\"display:none;\">\n",
       "        \n",
       "  <svg xmlns=\"http://www.w3.org/2000/svg\" height=\"24px\"viewBox=\"0 0 24 24\"\n",
       "       width=\"24px\">\n",
       "    <path d=\"M0 0h24v24H0V0z\" fill=\"none\"/>\n",
       "    <path d=\"M18.56 5.44l.94 2.06.94-2.06 2.06-.94-2.06-.94-.94-2.06-.94 2.06-2.06.94zm-11 1L8.5 8.5l.94-2.06 2.06-.94-2.06-.94L8.5 2.5l-.94 2.06-2.06.94zm10 10l.94 2.06.94-2.06 2.06-.94-2.06-.94-.94-2.06-.94 2.06-2.06.94z\"/><path d=\"M17.41 7.96l-1.37-1.37c-.4-.4-.92-.59-1.43-.59-.52 0-1.04.2-1.43.59L10.3 9.45l-7.72 7.72c-.78.78-.78 2.05 0 2.83L4 21.41c.39.39.9.59 1.41.59.51 0 1.02-.2 1.41-.59l7.78-7.78 2.81-2.81c.8-.78.8-2.07 0-2.86zM5.41 20L4 18.59l7.72-7.72 1.47 1.35L5.41 20z\"/>\n",
       "  </svg>\n",
       "      </button>\n",
       "      \n",
       "  <style>\n",
       "    .colab-df-container {\n",
       "      display:flex;\n",
       "      flex-wrap:wrap;\n",
       "      gap: 12px;\n",
       "    }\n",
       "\n",
       "    .colab-df-convert {\n",
       "      background-color: #E8F0FE;\n",
       "      border: none;\n",
       "      border-radius: 50%;\n",
       "      cursor: pointer;\n",
       "      display: none;\n",
       "      fill: #1967D2;\n",
       "      height: 32px;\n",
       "      padding: 0 0 0 0;\n",
       "      width: 32px;\n",
       "    }\n",
       "\n",
       "    .colab-df-convert:hover {\n",
       "      background-color: #E2EBFA;\n",
       "      box-shadow: 0px 1px 2px rgba(60, 64, 67, 0.3), 0px 1px 3px 1px rgba(60, 64, 67, 0.15);\n",
       "      fill: #174EA6;\n",
       "    }\n",
       "\n",
       "    [theme=dark] .colab-df-convert {\n",
       "      background-color: #3B4455;\n",
       "      fill: #D2E3FC;\n",
       "    }\n",
       "\n",
       "    [theme=dark] .colab-df-convert:hover {\n",
       "      background-color: #434B5C;\n",
       "      box-shadow: 0px 1px 3px 1px rgba(0, 0, 0, 0.15);\n",
       "      filter: drop-shadow(0px 1px 2px rgba(0, 0, 0, 0.3));\n",
       "      fill: #FFFFFF;\n",
       "    }\n",
       "  </style>\n",
       "\n",
       "      <script>\n",
       "        const buttonEl =\n",
       "          document.querySelector('#df-6c3d07d8-c4af-443f-a97a-eb195d528889 button.colab-df-convert');\n",
       "        buttonEl.style.display =\n",
       "          google.colab.kernel.accessAllowed ? 'block' : 'none';\n",
       "\n",
       "        async function convertToInteractive(key) {\n",
       "          const element = document.querySelector('#df-6c3d07d8-c4af-443f-a97a-eb195d528889');\n",
       "          const dataTable =\n",
       "            await google.colab.kernel.invokeFunction('convertToInteractive',\n",
       "                                                     [key], {});\n",
       "          if (!dataTable) return;\n",
       "\n",
       "          const docLinkHtml = 'Like what you see? Visit the ' +\n",
       "            '<a target=\"_blank\" href=https://colab.research.google.com/notebooks/data_table.ipynb>data table notebook</a>'\n",
       "            + ' to learn more about interactive tables.';\n",
       "          element.innerHTML = '';\n",
       "          dataTable['output_type'] = 'display_data';\n",
       "          await google.colab.output.renderOutput(dataTable, element);\n",
       "          const docLink = document.createElement('div');\n",
       "          docLink.innerHTML = docLinkHtml;\n",
       "          element.appendChild(docLink);\n",
       "        }\n",
       "      </script>\n",
       "    </div>\n",
       "  </div>\n",
       "  "
      ],
      "text/plain": [
       "       Survived\n",
       "count 887.00000\n",
       "mean    0.00000\n",
       "std     1.00000\n",
       "min    -0.79172\n",
       "25%    -0.79172\n",
       "50%    -0.79172\n",
       "75%     1.26165\n",
       "max     1.26165"
      ]
     },
     "execution_count": 50,
     "metadata": {},
     "output_type": "execute_result"
    }
   ],
   "source": [
    "y_new_describe"
   ]
  },
  {
   "cell_type": "markdown",
   "metadata": {
    "id": "mT_fgGFvDysx"
   },
   "source": [
    "## Matplotlib"
   ]
  },
  {
   "cell_type": "markdown",
   "metadata": {
    "id": "7UAp2tzMkH19"
   },
   "source": [
    "Matplotlib is a commonly used library for visualizing data in Python. Other visualization libraries exist for Python, such as seaborn, plotly, and more. Beyond the first practical notebook, we do not enforce any particular plotting library, but strongly encourage the use of Matplotlib. Below we will use the plotting functions inside of *matplotlib.pyplot*. You can read more about matplotlib [here](https://matplotlib.org/) and pyplot [here](https://matplotlib.org/api/_as_gen/matplotlib.pyplot.html#module-matplotlib.pyplot)."
   ]
  },
  {
   "cell_type": "markdown",
   "metadata": {
    "id": "LFPDRxqfTi_a"
   },
   "source": [
    "### Examples"
   ]
  },
  {
   "cell_type": "code",
   "execution_count": 19,
   "metadata": {
    "id": "T7dy6XwKDwQ7"
   },
   "outputs": [],
   "source": [
    "# import the relevant libraries\n",
    "import matplotlib.pyplot as plt\n",
    "import numpy as np"
   ]
  },
  {
   "cell_type": "markdown",
   "metadata": {
    "id": "scDiY0f0kRP2"
   },
   "source": [
    "We will start by looking at some small lists."
   ]
  },
  {
   "cell_type": "code",
   "execution_count": 20,
   "metadata": {
    "colab": {
     "base_uri": "https://localhost:8080/",
     "height": 295
    },
    "id": "6v_Nv3X0kQjH",
    "outputId": "7b1222c2-682c-429b-bbdd-43eda1bbc8e6"
   },
   "outputs": [
    {
     "data": {
      "image/png": "[encoded data removed]",
      "text/plain": [
       "<Figure size 432x288 with 1 Axes>"
      ]
     },
     "metadata": {
      "needs_background": "light"
     },
     "output_type": "display_data"
    }
   ],
   "source": [
    "# examples of some datapoint\n",
    "x = [1,2,3,4]\n",
    "y = [2,3.5,7,8.2]\n",
    "\n",
    "# plotting the data using matplotlib.pyplot.plot\n",
    "plt.plot(x, y)\n",
    "\n",
    "# It is important to add labels for the axes and a title\n",
    "plt.xlabel(\"x\")\n",
    "plt.ylabel(\"y\")\n",
    "plt.title(\"Plotting with matplotlib\")\n",
    "# and always end with show(), which will show you the plot.\n",
    "plt.show()"
   ]
  },
  {
   "cell_type": "markdown",
   "metadata": {
    "id": "34W7sZMqjVDe"
   },
   "source": [
    "Plots can also be below each other, or side by side by using [subplot](https://matplotlib.org/3.3.3/api/_as_gen/matplotlib.pyplot.subplot.html)."
   ]
  },
  {
   "cell_type": "code",
   "execution_count": 21,
   "metadata": {
    "colab": {
     "base_uri": "https://localhost:8080/",
     "height": 302
    },
    "id": "65GoJL1MV-Gs",
    "outputId": "ce5288cb-3912-4165-ca28-c9d1ecf2b4c7"
   },
   "outputs": [
    {
     "data": {
      "image/png": "[encoded data removed]",
      "text/plain": [
       "<Figure size 432x288 with 2 Axes>"
      ]
     },
     "metadata": {
      "needs_background": "light"
     },
     "output_type": "display_data"
    }
   ],
   "source": [
    "# Vertical subplot\n",
    "\n",
    "plt.style.use('bmh')\n",
    "\n",
    "t = np.arange(0.0, 1.0, 0.01)\n",
    "sin = np.sin(2*np.pi*t)\n",
    "cos = np.cos(2*np.pi*t)\n",
    "\n",
    "fig = plt.figure()\n",
    "fig.suptitle(\"Sine and cosine for different t\", fontsize=18)\n",
    "\n",
    "ax1 = fig.add_subplot(2,1,1)\n",
    "ax1.plot(t, sin, color='red', lw=2)\n",
    "ax1.set_ylabel('Amplitude')\n",
    "ax1.set_xlabel('Time')\n",
    "ax1.set_title('Sine wave')\n",
    "\n",
    "ax2 = fig.add_subplot(2,1,2)\n",
    "ax2.plot(t, cos)\n",
    "ax2.set_ylabel('Amplitude')\n",
    "ax2.set_xlabel('Time')\n",
    "ax2.set_title('Cosine wave')\n",
    "\n",
    "fig.tight_layout() # comment out this line to see the difference\n",
    "fig.subplots_adjust(top=0.85)\n",
    "plt.show()"
   ]
  },
  {
   "cell_type": "code",
   "execution_count": 22,
   "metadata": {
    "colab": {
     "base_uri": "https://localhost:8080/",
     "height": 302
    },
    "id": "DXr8cax6UnTi",
    "outputId": "41c41a77-d433-45a7-eec7-59b141060097"
   },
   "outputs": [
    {
     "data": {
      "image/png": "[encoded data removed]",
      "text/plain": [
       "<Figure size 432x288 with 2 Axes>"
      ]
     },
     "metadata": {
      "needs_background": "light"
     },
     "output_type": "display_data"
    }
   ],
   "source": [
    "# Horizontal subplot\n",
    "\n",
    "plt.style.use('bmh')\n",
    "\n",
    "t = np.arange(0.0, 1.0, 0.01)\n",
    "sin = np.sin(2*np.pi*t)\n",
    "cos = np.cos(2*np.pi*t)\n",
    "\n",
    "fig = plt.figure()\n",
    "fig.suptitle(\"Sine and cosine for different t\", fontsize=18)\n",
    "\n",
    "ax1 = fig.add_subplot(1,2,1)  # we have changed (2,1,1) to (1,2,1)\n",
    "ax1.plot(t, sin, color='red', lw=2)\n",
    "ax1.set_ylabel('Amplitude')\n",
    "ax1.set_xlabel('Time')\n",
    "ax1.set_title('Sine wave')\n",
    "\n",
    "ax2 = fig.add_subplot(1,2,2)  # we have changed (2,1,2) to (1,2,2)\n",
    "ax2.plot(t, cos)\n",
    "ax2.set_ylabel('Amplitude')\n",
    "ax2.set_xlabel('Time')\n",
    "ax2.set_title('Cosine wave')\n",
    "\n",
    "fig.tight_layout() # comment out this line to see the difference\n",
    "fig.subplots_adjust(top=0.85)\n",
    "plt.show()"
   ]
  },
  {
   "cell_type": "markdown",
   "metadata": {
    "id": "UW0Yy4f3jcZt"
   },
   "source": [
    "And with different stylings"
   ]
  },
  {
   "cell_type": "code",
   "execution_count": 23,
   "metadata": {
    "colab": {
     "base_uri": "https://localhost:8080/"
    },
    "id": "tg44jB-0jbqa",
    "outputId": "0f32f1c0-c41c-4218-b440-50c330b8daf8"
   },
   "outputs": [
    {
     "data": {
      "text/plain": [
       "['Solarize_Light2',\n",
       " '_classic_test_patch',\n",
       " 'bmh',\n",
       " 'classic',\n",
       " 'dark_background',\n",
       " 'fast',\n",
       " 'fivethirtyeight',\n",
       " 'ggplot',\n",
       " 'grayscale',\n",
       " 'seaborn',\n",
       " 'seaborn-bright',\n",
       " 'seaborn-colorblind',\n",
       " 'seaborn-dark',\n",
       " 'seaborn-dark-palette',\n",
       " 'seaborn-darkgrid',\n",
       " 'seaborn-deep',\n",
       " 'seaborn-muted',\n",
       " 'seaborn-notebook',\n",
       " 'seaborn-paper',\n",
       " 'seaborn-pastel',\n",
       " 'seaborn-poster',\n",
       " 'seaborn-talk',\n",
       " 'seaborn-ticks',\n",
       " 'seaborn-white',\n",
       " 'seaborn-whitegrid',\n",
       " 'tableau-colorblind10']"
      ]
     },
     "execution_count": 23,
     "metadata": {},
     "output_type": "execute_result"
    }
   ],
   "source": [
    "# Here are all the different \"pre-configured\" styles matplot lib supports\n",
    "# https://matplotlib.org/tutorials/intermediate/artists.html#sphx-glr-tutorials-intermediate-artists-py \n",
    "plt.style.available"
   ]
  },
  {
   "cell_type": "markdown",
   "metadata": {
    "id": "Je6jHfmCWj7l"
   },
   "source": [
    "The plotts can also be both below each other and side by side at the same time (as a matrix) as you can see below. Here we have also plotted two graphs together in every figure, and added a color and a label for each one of them."
   ]
  },
  {
   "cell_type": "code",
   "execution_count": 24,
   "metadata": {
    "colab": {
     "base_uri": "https://localhost:8080/",
     "height": 302
    },
    "id": "X9pj2gkhjT8P",
    "outputId": "86a1df1f-8f14-417a-a94d-5ea1b2936b4d"
   },
   "outputs": [
    {
     "data": {
      "image/png": "[encoded data removed]",
      "text/plain": [
       "<Figure size 432x288 with 6 Axes>"
      ]
     },
     "metadata": {
      "needs_background": "light"
     },
     "output_type": "display_data"
    }
   ],
   "source": [
    "# Matrix subplot\n",
    "\n",
    "fig = plt.figure()\n",
    "fig.suptitle(\"Sine and cosine for different t\", fontsize=18)\n",
    "\n",
    "i = 1\n",
    "for freq in [1, 2, 3]:\n",
    "  for t_max in [1, 2]:\n",
    "    t = np.arange(0.0, t_max, 0.01)\n",
    "    sin = np.sin(2*freq*np.pi*t)\n",
    "    cos = np.cos(2*freq*np.pi*t)\n",
    "\n",
    "    ax = fig.add_subplot(3,2,i)\n",
    "    ax.plot(t, sin, color='red', lw=2, label='sine')\n",
    "    ax.plot(t, cos, color='blue', lw=2, label='cosine')\n",
    "    ax.set_ylabel('Amplitude')\n",
    "    ax.set_xlabel('Time')\n",
    "    ax.legend(fontsize=6)\n",
    "    ax.set_title(f'freq = {freq}', fontsize=10)\n",
    "    i += 1\n",
    "\n",
    "fig.tight_layout() # comment out this line to see the difference\n",
    "fig.subplots_adjust(top=0.85)\n",
    "plt.show()"
   ]
  },
  {
   "cell_type": "markdown",
   "metadata": {
    "id": "O9IoXXvHn9h1"
   },
   "source": [
    "### Plotting data from Pandas"
   ]
  },
  {
   "cell_type": "markdown",
   "metadata": {
    "id": "s2tbiP4VkTMP"
   },
   "source": [
    "Now we will plot some of the datapoints from the titanic dataset to visualize it."
   ]
  },
  {
   "cell_type": "code",
   "execution_count": 51,
   "metadata": {
    "colab": {
     "base_uri": "https://localhost:8080/"
    },
    "id": "Z8oseI6goJrG",
    "outputId": "f4d9eb93-2838-452b-a43e-2bd9a0075ebf"
   },
   "outputs": [
    {
     "name": "stdout",
     "output_type": "stream",
     "text": [
      "--2023-02-02 14:02:36--  https://web.stanford.edu/class/archive/cs/cs109/cs109.1166/stuff/titanic.csv\n",
      "Resolving web.stanford.edu (web.stanford.edu)... 171.67.215.200, 2607:f6d0:0:925a::ab43:d7c8\n",
      "Connecting to web.stanford.edu (web.stanford.edu)|171.67.215.200|:443... connected.\n",
      "HTTP request sent, awaiting response... 200 OK\n",
      "Length: 44225 (43K) [text/csv]\n",
      "Saving to: ‘titanic.csv.4’\n",
      "\n",
      "titanic.csv.4       100%[===================>]  43.19K  --.-KB/s    in 0.08s   \n",
      "\n",
      "2023-02-02 14:02:36 (564 KB/s) - ‘titanic.csv.4’ saved [44225/44225]\n",
      "\n"
     ]
    }
   ],
   "source": [
    "# Downloading the titanic dataset\n",
    "!wget https://web.stanford.edu/class/archive/cs/cs109/cs109.1166/stuff/titanic.csv"
   ]
  },
  {
   "cell_type": "code",
   "execution_count": 26,
   "metadata": {
    "id": "__TnMtLroLhE"
   },
   "outputs": [],
   "source": [
    "# Load the titanic dataset for plotting\n",
    "import pandas as pd\n",
    "df = pd.read_csv('titanic.csv')"
   ]
  },
  {
   "cell_type": "markdown",
   "metadata": {
    "id": "pTJ5-6q4XMf4"
   },
   "source": [
    "#### Assignment h)"
   ]
  },
  {
   "cell_type": "code",
   "execution_count": 27,
   "metadata": {
    "colab": {
     "base_uri": "https://localhost:8080/",
     "height": 296
    },
    "id": "gib9ZRyCkdfx",
    "outputId": "50109a62-1b11-4575-ac91-1e3686194f31"
   },
   "outputs": [
    {
     "data": {
      "image/png": "[encoded data removed]",
      "text/plain": [
       "<Figure size 432x288 with 1 Axes>"
      ]
     },
     "metadata": {
      "needs_background": "light"
     },
     "output_type": "display_data"
    }
   ],
   "source": [
    "# ASSIGNMENT:\n",
    "# make a scatterplot of the class of ticket in the x axis\n",
    "# and the fare on the y axis\n",
    "# label the plot and the axes appropriately\n",
    "\n",
    "# YOUR CODE HERE\n",
    "\n",
    "fare = df[\"Fare\"]\n",
    "clas_of_ticket = df[\"Pclass\"]\n",
    "plt.scatter(clas_of_ticket,fare)\n",
    "plt.xlabel(\"Class of ticket\")\n",
    "plt.ylabel(\"Fare\")\n",
    "plt.title(\"Fare vs Class of the ticket\")\n",
    "plt.show()\n",
    "\n",
    "\n"
   ]
  },
  {
   "cell_type": "markdown",
   "metadata": {
    "id": "9MZmF6eiZG27"
   },
   "source": [
    "#### Assignment i)"
   ]
  },
  {
   "cell_type": "markdown",
   "metadata": {
    "id": "renFog3zkmkR"
   },
   "source": [
    "It might also be a good idea to plot a histogram over the data, to get a better understanding of how the data looks. This can be done using the function *hist* from matplotlib."
   ]
  },
  {
   "cell_type": "code",
   "execution_count": 28,
   "metadata": {
    "colab": {
     "base_uri": "https://localhost:8080/",
     "height": 296
    },
    "id": "ZQupTlOIko7r",
    "outputId": "91c7cc1b-113f-4aad-be9a-e597023f8193"
   },
   "outputs": [
    {
     "data": {
      "image/png": "[encoded data removed]",
      "text/plain": [
       "<Figure size 432x288 with 1 Axes>"
      ]
     },
     "metadata": {
      "needs_background": "light"
     },
     "output_type": "display_data"
    }
   ],
   "source": [
    "fare = df[\"Fare\"]\n",
    "plt.hist(fare)\n",
    "plt.xlabel(\"Fare\")\n",
    "plt.title(\"Visualizaion of the fare difference\")\n",
    "plt.show()"
   ]
  },
  {
   "cell_type": "markdown",
   "metadata": {
    "id": "X7RJMmLzX8LJ"
   },
   "source": [
    "As you can see, most of the people paid less than 150 for the ticket."
   ]
  },
  {
   "cell_type": "code",
   "execution_count": 29,
   "metadata": {
    "colab": {
     "base_uri": "https://localhost:8080/",
     "height": 296
    },
    "id": "ClH6CmejYLQm",
    "outputId": "ada5f008-7d91-4963-d553-ddc875c6cd96"
   },
   "outputs": [
    {
     "data": {
      "image/png": "[encoded data removed]",
      "text/plain": [
       "<Figure size 432x288 with 1 Axes>"
      ]
     },
     "metadata": {
      "needs_background": "light"
     },
     "output_type": "display_data"
    }
   ],
   "source": [
    "# ASSIGNMENT:\n",
    "# Plot a histogram over the people who paid less than, or equal to, 150.\n",
    "# label the plot and the axes appropriately\n",
    "\n",
    "# YOUR CODE HERE\n",
    "\n",
    "\n",
    "\n",
    "fare = df[df[\"Fare\"] <= 150][\"Fare\"]\n",
    "plt.hist(fare)\n",
    "plt.xlabel(\"Fare\")\n",
    "plt.ylabel(\"Frequency\")\n",
    "plt.title(\"Histogram of the paid fare with <=150\")\n",
    "plt.show()\n"
   ]
  },
  {
   "cell_type": "markdown",
   "metadata": {
    "id": "ruBS3rYnYdRN"
   },
   "source": [
    "#### Assignment j)"
   ]
  },
  {
   "cell_type": "code",
   "execution_count": 30,
   "metadata": {
    "colab": {
     "base_uri": "https://localhost:8080/",
     "height": 296
    },
    "id": "yzzWhLElksr0",
    "outputId": "e688a7bd-5a2f-4ce2-8149-c3b45526bc05"
   },
   "outputs": [
    {
     "data": {
      "image/png": "[encoded data removed]",
      "text/plain": [
       "<Figure size 432x288 with 1 Axes>"
      ]
     },
     "metadata": {
      "needs_background": "light"
     },
     "output_type": "display_data"
    }
   ],
   "source": [
    "# ASSIGNMENT:\n",
    "# plot a histogram over all the ages with 20 bins. Draw a vertical line at the mean age.\n",
    "# label the plot and the axes appropriately\n",
    "\n",
    "# YOUR CODE HERE\n",
    "\n",
    "age = df[\"Age\"]\n",
    "plt.hist(age,bins=20)\n",
    "plt.axvline(df[\"Age\"].mean(),color=\"y\")\n",
    "plt.xlabel(\"Age\")\n",
    "plt.ylabel(\"Frequency\")\n",
    "plt.title(\"Histogram of the Age\")\n",
    "plt.show()"
   ]
  },
  {
   "cell_type": "markdown",
   "metadata": {
    "id": "GRvH4bEzY4gW"
   },
   "source": [
    "#### Assignment k)"
   ]
  },
  {
   "cell_type": "markdown",
   "metadata": {
    "id": "Zz0xnlc8kunQ"
   },
   "source": [
    "Sometimes it is better to plot the figures together in one figure instead. This can be done with subplot, as shown in the examples above."
   ]
  },
  {
   "cell_type": "code",
   "execution_count": 52,
   "metadata": {
    "colab": {
     "base_uri": "https://localhost:8080/",
     "height": 369
    },
    "id": "eJSZ_CsLkxig",
    "outputId": "0f9cdb96-718a-4840-c0e5-13aa9514263b"
   },
   "outputs": [
    {
     "data": {
      "image/png": "[encoded data removed]",
      "text/plain": [
       "<Figure size 1080x360 with 3 Axes>"
      ]
     },
     "metadata": {},
     "output_type": "display_data"
    }
   ],
   "source": [
    "# ASSIGNMENT:\n",
    "# Make a subplot over the Fare, Class, and Age\n",
    "# label the plot and the axes appropriately\n",
    "\n",
    "# YOUR CODE HERE\n",
    "\"\"\"\n",
    "\n",
    "\n",
    "\"\"\"\n",
    "\n",
    "fig, axs = plt.subplots(1, 3, figsize=(15,5))\n",
    "\n",
    "\n",
    "clas_of_ticket = df[\"Pclass\"]\n",
    "axs[0].hist(clas_of_ticket)\n",
    "axs[0].set_xlabel(\"Class of ticket\")\n",
    "axs[0].set_ylabel(\"Frequency\")\n",
    "axs[0].set_title(\"Histogram of class of the ticket\")\n",
    "\n",
    "\n",
    "fare = df[\"Fare\"]\n",
    "axs[1].hist(fare)\n",
    "axs[1].set_xlabel(\"Fare\")\n",
    "axs[1].set_ylabel(\"Frequency\")\n",
    "axs[1].set_title(\"Histogram of the paid fare\")\n",
    "\n",
    "age = df[\"Age\"]\n",
    "axs[2].hist(age,bins=20)\n",
    "axs[2].axvline(df[\"Age\"].mean(),color=\"y\")\n",
    "axs[2].set_xlabel(\"Age\")\n",
    "axs[2].set_ylabel(\"Frequency\")\n",
    "axs[2].set_title(\"Histogram of the Age\")\n",
    "\n",
    "\n",
    "plt.tight_layout()\n",
    "plt.show()"
   ]
  },
  {
   "cell_type": "markdown",
   "metadata": {
    "id": "iszMf9K4aN6Y"
   },
   "source": [
    "#### Assignment l)"
   ]
  },
  {
   "cell_type": "markdown",
   "metadata": {
    "id": "4ImUP2JCZzKh"
   },
   "source": [
    "Now we want to compare the fare and class, as we did before, but this time we want to divide them into two colors, depending on if they survived or not."
   ]
  },
  {
   "cell_type": "code",
   "execution_count": 55,
   "metadata": {
    "colab": {
     "base_uri": "https://localhost:8080/",
     "height": 897
    },
    "id": "j7hfWvEak1Mo",
    "outputId": "3c200ce3-3340-4ee5-f920-d5a4f5a78940"
   },
   "outputs": [
    {
     "data": {
      "image/png": "[encoded data removed]",
      "text/plain": [
       "<Figure size 1080x1080 with 1 Axes>"
      ]
     },
     "metadata": {},
     "output_type": "display_data"
    }
   ],
   "source": [
    "# ASSIGNMENT:\n",
    "# Make a scatter plot with fare on the y-axis \n",
    "# and class on the x-axis \n",
    "# using red dots for all the people who died\n",
    "# and blue dots for the people who survived.\n",
    "# use different markers for the survived and died points\n",
    "# label the plot and the axes appropriately\n",
    "\n",
    "# YOUR CODE HERE\n",
    "fig = plt.figure(figsize=(15, 15))\n",
    "survived_people = df[df[\"Survived\"] == 1]\n",
    "died_people = df[df[\"Survived\"] == 0]\n",
    "\n",
    "\n",
    "plt.scatter(died_people[\"Pclass\"], died_people[\"Fare\"], marker='x', color='red', label='Died')\n",
    "plt.scatter(survived_people[\"Pclass\"], survived_people[\"Fare\"], marker='o', color='blue', label='Survived')\n",
    "plt.xlabel(\"Class of Ticket\")\n",
    "plt.ylabel(\"Fare\")\n",
    "plt.title(\"Scatter Plot of Fare vs Class of Ticket\")\n",
    "plt.legend()\n",
    "plt.show()\n",
    "\n"
   ]
  },
  {
   "cell_type": "markdown",
   "metadata": {
    "id": "Qti35zoTa6x0"
   },
   "source": [
    "#### Assignment m)"
   ]
  },
  {
   "cell_type": "markdown",
   "metadata": {
    "id": "Mz9hJK5wa9dY"
   },
   "source": [
    "It might also be interesting to visualize how many of the men and women survived. This can be done with the bar function, which will be given to you."
   ]
  },
  {
   "cell_type": "code",
   "execution_count": 57,
   "metadata": {
    "colab": {
     "base_uri": "https://localhost:8080/",
     "height": 299
    },
    "id": "z_nEDn_rbBPK",
    "outputId": "b6acb09b-c4b2-455c-dd88-9da433d64a18"
   },
   "outputs": [
    {
     "data": {
      "image/png": "[encoded data removed]",
      "text/plain": [
       "<Figure size 432x288 with 1 Axes>"
      ]
     },
     "metadata": {},
     "output_type": "display_data"
    }
   ],
   "source": [
    "# ASSIGNMENT:\n",
    "# Calculate how many women and men died and survived.\n",
    "# label the plot and the axes appropriately\n",
    "\n",
    "# YOUR CODE HERE\n",
    "female_survived, male_survived = df[df[\"Sex\"]==\"female\"][\"Survived\"].value_counts()[1],df[df[\"Sex\"]==\"male\"][\"Survived\"].value_counts()[1]\n",
    "female_died, male_died = df[df[\"Sex\"]==\"female\"][\"Survived\"].value_counts()[0],df[df[\"Sex\"]==\"male\"][\"Survived\"].value_counts()[0]\n",
    "plt.bar([0.9,1.9], [female_survived, male_survived] , color='c', label='survived', width=0.2, alpha=0.3)\n",
    "plt.bar([1.1, 2.1], [female_died, male_died] , color='r', label='died', width=0.2, alpha=0.3)\n",
    "plt.xticks([1,2], ['Female','Male'])\n",
    "plt.xlabel(\"Gender\")\n",
    "plt.ylabel(\"Frequency\")\n",
    "plt.title(\"Death and Survival Rates\")\n",
    "plt.legend()\n",
    "plt.show()\n"
   ]
  },
  {
   "cell_type": "code",
   "execution_count": 34,
   "metadata": {
    "id": "Hgqiacy6gU7u"
   },
   "outputs": [],
   "source": [
    "### (Optional) Ploting a  histogram of a random distribution"
   ]
  },
  {
   "cell_type": "markdown",
   "metadata": {
    "id": "OmQNK4-siyps"
   },
   "source": [
    "OPTIONAL:  \n",
    "Plotting a Histogram of Random values\n",
    "\n",
    "Your task is to generate 10000 random numbers that follows the normal distribution, with a mean, $\\mu = 1$, and variance $\\sigma^2 = 0.25$. \n",
    "\n",
    "Plot the **normalized** histogram with 50 bars and a contour plot.   "
   ]
  },
  {
   "cell_type": "code",
   "execution_count": 62,
   "metadata": {
    "colab": {
     "base_uri": "https://localhost:8080/",
     "height": 299
    },
    "id": "oLvkIjmvpP0Y",
    "outputId": "c9e9c29b-afe5-4ddd-d525-d45196f0de0c"
   },
   "outputs": [
    {
     "data": {
      "image/png": "[encoded data removed]",
      "text/plain": [
       "<Figure size 432x288 with 1 Axes>"
      ]
     },
     "metadata": {},
     "output_type": "display_data"
    }
   ],
   "source": [
    "import numpy as np\n",
    "import matplotlib.pyplot as plt\n",
    "from scipy.stats import gaussian_kde\n",
    "\n",
    "plt.style.use('ggplot')\n",
    "np.random.seed(42)\n",
    "\n",
    "# OPTIONAL ASSIGNMENT:\n",
    "# Draw 10000 random values from a normal distribution with:\n",
    "#   mu = 1, sigma2 = 0.25\n",
    "#  \n",
    "# Plot the histogram and cumulative distribution \n",
    "# label the plot and the axes appropriately\n",
    "\n",
    "\n",
    "# YOUR CODE HERE\n",
    "\n",
    "\n",
    "from scipy.stats import gaussian_kde\n",
    "\n",
    "mu = 1\n",
    "sigma2 = 0.25\n",
    "data = np.random.normal(mu, np.sqrt(sigma2), 10000)\n",
    "plt.hist(data, bins=50, label='Histogram')\n",
    "plt.xlabel(\"Values\")\n",
    "plt.ylabel(\"Frequency\")\n",
    "plt.title(\"Normal Distribution with variance=0.25 and mean=1\")\n",
    "plt.show()\n"
   ]
  },
  {
   "cell_type": "code",
   "execution_count": 66,
   "metadata": {
    "colab": {
     "base_uri": "https://localhost:8080/",
     "height": 299
    },
    "id": "U2BJVJS1f7c8",
    "outputId": "5a49edef-3eb7-430b-bace-244de9fb7d97"
   },
   "outputs": [
    {
     "data": {
      "image/png": "[encoded data removed]",
      "text/plain": [
       "<Figure size 432x288 with 1 Axes>"
      ]
     },
     "metadata": {},
     "output_type": "display_data"
    }
   ],
   "source": [
    "plt.hist2d(data, data, cmap=plt.cm.Reds)\n",
    "\n",
    "plt.xlabel(\"Values\")\n",
    "plt.ylabel(\"Ranges\")\n",
    "plt.title(\"Contour Plot with mean=1 and variance=0.25\")\n",
    "plt.show()"
   ]
  }
 ],
 "metadata": {
  "colab": {
   "provenance": []
  },
  "kernelspec": {
   "display_name": "Python 3 (ipykernel)",
   "language": "python",
   "name": "python3"
  },
  "language_info": {
   "codemirror_mode": {
    "name": "ipython",
    "version": 3
   },
   "file_extension": ".py",
   "mimetype": "text/x-python",
   "name": "python",
   "nbconvert_exporter": "python",
   "pygments_lexer": "ipython3",
   "version": "3.9.12"
  },
  "vscode": {
   "interpreter": {
    "hash": "0f0f210add621de7e7eecdb6ea659244cd4e5241b66b81f16fdf57cd50d3ae01"
   }
  }
 },
 "nbformat": 4,
 "nbformat_minor": 1
}
